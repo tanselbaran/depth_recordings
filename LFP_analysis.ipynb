{
 "cells": [
  {
   "cell_type": "markdown",
   "metadata": {},
   "source": [
    "# LFP Analysis Pipeline"
   ]
  },
  {
   "cell_type": "markdown",
   "metadata": {},
   "source": [
    "## 3) Run the main analysis function on the data \n",
    "\n",
    "We are ready to perform the analysis on the data. Please first <b> specify the path (with / at the end) </b> to the folder that contains the folders for all recprding sessions (i.e. the folder right above the folders of recording sessions in hierarchy) and then <b> run the following line of code </b> to run the script <i> analyze_all_recording_sessions.py </i> which will run the <i> main </i> function in the <i> main_tetrode.py </i>. You can check the scripts for the details of the steps running on the background. "
   ]
  },
  {
   "cell_type": "code",
   "execution_count": 1,
   "metadata": {
    "scrolled": false
   },
   "outputs": [
    {
     "name": "stderr",
     "output_type": "stream",
     "text": [
      "/home/baran/anaconda3/lib/python3.6/site-packages/h5py/__init__.py:36: FutureWarning: Conversion of the second argument of issubdtype from `float` to `np.floating` is deprecated. In future, it will be treated as `np.float64 == np.dtype(float).type`.\n",
      "  from ._conv import register_converters as _register_converters\n"
     ]
    }
   ],
   "source": [
    "import pickle as p\n",
    "import os \n",
    "import sys \n",
    "from utils.load_intan_rhd_format import *\n",
    "from utils.reading_utils import *\n",
    "from LFPutils.read_evoked_lfp import *\n",
    "from tqdm import tqdm\n",
    "import numpy as np\n",
    "import h5py\n",
    "from spikeSortingUtils.custom_spike_sorting_utils import * \n",
    "from surfaceRecUtils.surface_rec_notebook_utils import * \n",
    "import nbformat as nbf\n",
    "\n",
    "experiment = p.load(open('/home/baran/Dropbox (Yanik Lab)/Layer 1 Project/Electrophysiology/Experiments/20180709_BY17_opto_ephys/experiment_params.p', 'rb'))"
   ]
  },
  {
   "cell_type": "code",
   "execution_count": 2,
   "metadata": {},
   "outputs": [
    {
     "name": "stderr",
     "output_type": "stream",
     "text": [
      "100%|██████████| 3/3 [08:03<00:00, 127.30s/it]\n"
     ]
    }
   ],
   "source": [
    "probe = experiment.probe\n",
    "mycwd = os.getcwd() \n",
    "\n",
    "f = h5py.File(experiment.dir + '/analysis_results.hdf5', 'a')\n",
    "for location in tqdm(experiment.locations):\n",
    "    experiment.locations[location].name = experiment.locations[location].dir.split('/')[-1]\n",
    "    loc_grp = f.create_group(experiment.locations[location].name)\n",
    "    for group in (range(probe.nr_of_groups)):\n",
    "        ch_grp = loc_grp.create_group('group_{:g}'.format(group))\n",
    "        for session_index in experiment.locations[location].sessions:\n",
    "            session = experiment.locations[location].sessions[session_index]\n",
    "            ses_grp = ch_grp.create_group(session.name)\n",
    "            group_file = read_group(group,session)\n",
    "            if (session.preferences['do_whisker_stim_evoked'] == 'y') or (session.preferences['do_optical_stim_evoked'] == 'y'):\n",
    "                read_evoked_lfp(group,session,group_file)\n",
    "        if experiment.locations[location].preferences['do_spike_analysis'] == 'y':\n",
    "            initialize_spike_sorting_notebook_for_group(location, group)"
   ]
  },
  {
   "cell_type": "markdown",
   "metadata": {},
   "source": [
    "## 4) Generate the figures and extract results\n",
    "\n",
    "As we have extracted the evoked LFP waveforms (and optionally ran the klusta, in case you enabled the spike sorting for this analysis), now we are ready to generate figures and  extract results for this experiment. These steps will be performed in the <i> evoked_lfp_analysis.py </i> script. Please <b> run the following line </b> to perform this step."
   ]
  },
  {
   "cell_type": "code",
   "execution_count": null,
   "metadata": {
    "scrolled": true
   },
   "outputs": [],
   "source": [
    "echo $PATHEXP | python evoked_lfp_analysis.py"
   ]
  },
  {
   "cell_type": "markdown",
   "metadata": {},
   "source": [
    "# Done! \n",
    "\n",
    "You can check the <i> Analyzed </i> folder to see the plots and the excel sheets containing the evoked LFP data and <b> move the files and folders </b> that you deem necessary into the <i> Analyzed </i> folder inside the <i> Electrophysiology </i> Dropbox folder. Please do not forget to rename the folder with the date and the name of the experiment when adding to the <i> Analyzed </i> folder. At the end, please <b> delete the data and the intermediate files from the SSD. </b> \n",
    "\n",
    "Notebook written by Baran Yasar in 04/2017. Please contact him in person or via e-mail at yasar@biomed.ee.ethz.ch in case of any questions."
   ]
  }
 ],
 "metadata": {
  "kernelspec": {
   "display_name": "Python 3",
   "language": "python",
   "name": "python3"
  },
  "language_info": {
   "codemirror_mode": {
    "name": "ipython",
    "version": 3
   },
   "file_extension": ".py",
   "mimetype": "text/x-python",
   "name": "python",
   "nbconvert_exporter": "python",
   "pygments_lexer": "ipython3",
   "version": "3.6.4"
  }
 },
 "nbformat": 4,
 "nbformat_minor": 2
}
