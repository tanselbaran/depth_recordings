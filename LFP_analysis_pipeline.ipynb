{
 "cells": [
  {
   "cell_type": "markdown",
   "metadata": {},
   "source": [
    "# Depth LFP Analysis Pipeline \n",
    "\n",
    "Welcome to the script for generating parameter dictionaries for the recording sessions in your experiment folder. Please follow the upcoming steps in this notebook for further instructions. \n",
    "\n",
    "## 1) Import the packages required for running the script\n",
    "\n",
    "Please run the block of code to import the Python packages that are required for running the rest of this script. "
   ]
  },
  {
   "cell_type": "code",
   "execution_count": 1,
   "metadata": {},
   "outputs": [],
   "source": [
    "#Import required packages\n",
    "import pickle as p \n",
    "import os\n",
    "from utils.load_intan_rhd_format import * \n",
    "from utils.reading_utils import *\n",
    "from tqdm import tqdm\n",
    "import ipywidgets\n",
    "from ipywidgets import Layout, HBox, VBox\n",
    "from IPython.display import display\n",
    "from glob import glob\n",
    "from utils.experiment_classes import *\n",
    "from utils.filtering import * \n",
    "from spikeSortingUtils.klusta_pre_and_post_processing_utils import * \n",
    "import numpy as np\n",
    "import h5py\n",
    "from utils.notebook_utils import * \n",
    "import shutil"
   ]
  },
  {
   "cell_type": "markdown",
   "metadata": {},
   "source": [
    "## 2) Enter general parameters for the experiment."
   ]
  },
  {
   "cell_type": "code",
   "execution_count": 2,
   "metadata": {
    "scrolled": false
   },
   "outputs": [
    {
     "data": {
      "application/vnd.jupyter.widget-view+json": {
       "model_id": "05d26a9aab174f89bac29440584c8872",
       "version_major": 2,
       "version_minor": 0
      },
      "text/plain": [
       "VBox(children=(HTML(value=\"<p><b>Path to the data of the experiment:</b><br />Enter the path to the folder (wi…"
      ]
     },
     "metadata": {},
     "output_type": "display_data"
    },
    {
     "data": {
      "application/vnd.jupyter.widget-view+json": {
       "model_id": "60c37128be604db18ab5a2d3fdd15b6e",
       "version_major": 2,
       "version_minor": 0
      },
      "text/plain": [
       "VBox(children=(HTML(value='<b>Type of the experiment</b>'), Dropdown(index=1, options=('Acute', 'Chronic'), va…"
      ]
     },
     "metadata": {},
     "output_type": "display_data"
    },
    {
     "data": {
      "application/vnd.jupyter.widget-view+json": {
       "model_id": "dcf8ae61550b46e09e92df4eca6a0561",
       "version_major": 2,
       "version_minor": 0
      },
      "text/plain": [
       "VBox(children=(HTML(value='<p><b>File format:</b><br />(dat for .dat, cont for .continuous, rhd for .rhd)</p>'…"
      ]
     },
     "metadata": {},
     "output_type": "display_data"
    },
    {
     "data": {
      "application/vnd.jupyter.widget-view+json": {
       "model_id": "8aa73d886b934caba9c437ed314d91b1",
       "version_major": 2,
       "version_minor": 0
      },
      "text/plain": [
       "VBox(children=(HTML(value='<b>The port to which the amplifier is connected</b>'), Dropdown(options=('A', 'B', …"
      ]
     },
     "metadata": {},
     "output_type": "display_data"
    },
    {
     "data": {
      "application/vnd.jupyter.widget-view+json": {
       "model_id": "994f9d7858284eaaa50c3c59dec04380",
       "version_major": 2,
       "version_minor": 0
      },
      "text/plain": [
       "VBox(children=(HTML(value='<b>Enter the index of the digital input channel where the whisker stimulation trigg…"
      ]
     },
     "metadata": {},
     "output_type": "display_data"
    },
    {
     "data": {
      "application/vnd.jupyter.widget-view+json": {
       "model_id": "91adbe4ab87143719a2a039a27a7593c",
       "version_major": 2,
       "version_minor": 0
      },
      "text/plain": [
       "VBox(children=(HTML(value='<b>Probe name:</b>'), Text(value='', placeholder='probe_file')))"
      ]
     },
     "metadata": {},
     "output_type": "display_data"
    }
   ],
   "source": [
    "#Creating widgets for the user input on the general parameters for the experiment\n",
    "\n",
    "##Main path for the data \n",
    "\n",
    "mp_html = ipywidgets.HTML(value = \"<p><b>Path to the data of the experiment:</b><br />Enter the path to the folder (with no '/' at the end) that is hierarchically right above the folders of the recording sessions</p>\")\n",
    "mp = ipywidgets.Text(value = \"\", placeholder = \"Enter path for data\", disabled = False)\n",
    "display(VBox([mp_html, mp]))\n",
    "\n",
    "##Type of the experiment\n",
    "\n",
    "et_html = ipywidgets.HTML(value = \"<b>Type of the experiment</b>\")\n",
    "et = ipywidgets.Dropdown(options=['Acute', 'Chronic'], \n",
    "                   value = 'Chronic',  disabled = False)\n",
    "display(VBox([et_html, et]))\n",
    "\n",
    "\n",
    "##File format\n",
    "ff_html = ipywidgets.HTML(value = \"<p><b>File format:</b><br />(dat for .dat, cont for .continuous, rhd for .rhd)</p>\")\n",
    "ff = ipywidgets.Text(value = 'dat', placeholder = 'Enter file format',\n",
    "             disabled = False)\n",
    "display(VBox([ff_html,ff]))\n",
    "\n",
    "##Amplifier port\n",
    "ap_html = ipywidgets.HTML(value = \"<b>The port to which the amplifier is connected</b>\")\n",
    "ap = ipywidgets.Dropdown(options=['A', 'B', 'C', 'D'], \n",
    "                   value = 'A',  disabled = False)\n",
    "display(VBox([ap_html, ap]))\n",
    "\n",
    "##Whisker Stim Path\n",
    "wsp = ipywidgets.IntText(value = 0, disabled = False)\n",
    "display(VBox([ipywidgets.HTML(value = \"<b>Enter the index of the digital input channel where the whisker stimulation trigger is kept</b>\"), wsp]))\n",
    "\n",
    "##Probe file path \n",
    "pi_html = ipywidgets.HTML(value = \"<b>Probe name:</b>\")\n",
    "pi = ipywidgets.Text(value = '', placeholder = 'probe_file',\n",
    "             disabled = False)\n",
    "display(VBox([pi_html,pi]))"
   ]
  },
  {
   "cell_type": "markdown",
   "metadata": {
    "collapsed": true
   },
   "source": [
    "## 3) Enter parameters related to evoked LFP analysis"
   ]
  },
  {
   "cell_type": "code",
   "execution_count": 3,
   "metadata": {},
   "outputs": [
    {
     "data": {
      "application/vnd.jupyter.widget-view+json": {
       "model_id": "5c05c2cce197402890eb71e66ec04991",
       "version_major": 2,
       "version_minor": 0
      },
      "text/plain": [
       "VBox(children=(HTML(value='<b>Enter the factor of downsampling the raw data prior to evoked LFP analysis. </b>…"
      ]
     },
     "metadata": {},
     "output_type": "display_data"
    },
    {
     "data": {
      "application/vnd.jupyter.widget-view+json": {
       "model_id": "c8adceafb6fe4615a62f153cc9350a1b",
       "version_major": 2,
       "version_minor": 0
      },
      "text/plain": [
       "VBox(children=(HTML(value='<b>Enter time taken prior to the whisker stimulus trigger (in s)</b>'), FloatText(v…"
      ]
     },
     "metadata": {},
     "output_type": "display_data"
    },
    {
     "data": {
      "application/vnd.jupyter.widget-view+json": {
       "model_id": "f42925e1cda241a291fe83abdf8d2898",
       "version_major": 2,
       "version_minor": 0
      },
      "text/plain": [
       "VBox(children=(HTML(value='<b>Enter time taken post the whisker stimulus trigger (in s)</b>'), FloatText(value…"
      ]
     },
     "metadata": {},
     "output_type": "display_data"
    },
    {
     "data": {
      "application/vnd.jupyter.widget-view+json": {
       "model_id": "26adce1bc0ab4204952e2d9863397962",
       "version_major": 2,
       "version_minor": 0
      },
      "text/plain": [
       "VBox(children=(HTML(value='<b> Enter the cutoff frequency of the low pass filter to extract LFP from data (in …"
      ]
     },
     "metadata": {},
     "output_type": "display_data"
    },
    {
     "data": {
      "application/vnd.jupyter.widget-view+json": {
       "model_id": "98c14ec74a33402386b2e0c1a0d0b61c",
       "version_major": 2,
       "version_minor": 0
      },
      "text/plain": [
       "VBox(children=(HTML(value='<b> Enter the order of the Butterworth low pass filter used for the evoked LFP anal…"
      ]
     },
     "metadata": {},
     "output_type": "display_data"
    },
    {
     "data": {
      "application/vnd.jupyter.widget-view+json": {
       "model_id": "48800d69036444868f660666f1b4ecd6",
       "version_major": 2,
       "version_minor": 0
      },
      "text/plain": [
       "VBox(children=(HTML(value='<b>Enter the time to be cut from the beginning of the recording (in s)</b>'), Float…"
      ]
     },
     "metadata": {},
     "output_type": "display_data"
    },
    {
     "data": {
      "application/vnd.jupyter.widget-view+json": {
       "model_id": "5db199944ecd4ba29604797e877658ed",
       "version_major": 2,
       "version_minor": 0
      },
      "text/plain": [
       "VBox(children=(HTML(value='<b>Enter the time to be cut from the end of the recording (in s )'), FloatText(valu…"
      ]
     },
     "metadata": {},
     "output_type": "display_data"
    }
   ],
   "source": [
    "#Creating widgets for the user input on the parameters related to the whisker stim evoked LFP analysis\n",
    "\n",
    "##Downsampling factor\n",
    "ds = ipywidgets.IntText(value = 30, disabled = False)\n",
    "display(VBox([ipywidgets.HTML(value = \"<b>Enter the factor of downsampling the raw data prior to evoked LFP analysis. </b>\"), ds]))\n",
    "\n",
    "##whiskerEvokedPre\n",
    "\n",
    "wpre = ipywidgets.FloatText(value = 0.025, disabled = False)\n",
    "display(VBox([ipywidgets.HTML(value = \"<b>Enter time taken prior to the whisker stimulus trigger (in s)</b>\"), wpre]))\n",
    "\n",
    "##whiskerEvokedPost\n",
    "\n",
    "wpost = ipywidgets.FloatText(value = 0.100, disabled = False)\n",
    "display(VBox([ipywidgets.HTML(value = \"<b>Enter time taken post the whisker stimulus trigger (in s)</b>\"), wpost]))\n",
    "\n",
    "#low_pass_freq\n",
    "lp = ipywidgets.FloatText(value = 300, disabled = False)\n",
    "display(VBox([ipywidgets.HTML(value = \"<b> Enter the cutoff frequency of the low pass filter to extract LFP from data (in Hz)\"), lp]))\n",
    "\n",
    "#Low pass filter order\n",
    "lp_order = ipywidgets.IntText(value = 4, disabled = False)\n",
    "display(VBox([ipywidgets.HTML(value = \"<b> Enter the order of the Butterworth low pass filter used for the evoked LFP analysis (in Hz)\"), lp_order]))\n",
    "\n",
    "##cutBeginning\n",
    "cb = ipywidgets.FloatText(value = 1, disabled = False)\n",
    "display(VBox([ipywidgets.HTML(value = \"<b>Enter the time to be cut from the beginning of the recording (in s)</b>\"), cb]))\n",
    "\n",
    "##cutEnd\n",
    "ce = ipywidgets.FloatText(value = 1, disabled = False)\n",
    "display(VBox([ipywidgets.HTML(value = \"<b>Enter the time to be cut from the end of the recording (in s )\"), ce]))\n",
    "\n"
   ]
  },
  {
   "cell_type": "markdown",
   "metadata": {},
   "source": [
    "# 4) Enter parameters related to spike sorting\n",
    "\n",
    "If you are intending to do spike-sorting on this data, please set the spike-sorting parameters. Otherwise, set the boolean parameter \"do_spike_sorting\" to False below. "
   ]
  },
  {
   "cell_type": "code",
   "execution_count": 4,
   "metadata": {
    "scrolled": true
   },
   "outputs": [
    {
     "data": {
      "application/vnd.jupyter.widget-view+json": {
       "model_id": "b4bae9fe47314b2380102c70d4ee0283",
       "version_major": 2,
       "version_minor": 0
      },
      "text/plain": [
       "VBox(children=(HTML(value='<b>Enter the length of waveform to be taken before the threshold crossing (in ms)')…"
      ]
     },
     "metadata": {},
     "output_type": "display_data"
    },
    {
     "data": {
      "application/vnd.jupyter.widget-view+json": {
       "model_id": "521b8adffe514b13af70174fc8687b01",
       "version_major": 2,
       "version_minor": 0
      },
      "text/plain": [
       "VBox(children=(HTML(value='<b>Enter the length of waveform to be taken after the threshold crossing (in ms)'),…"
      ]
     },
     "metadata": {},
     "output_type": "display_data"
    },
    {
     "data": {
      "application/vnd.jupyter.widget-view+json": {
       "model_id": "65c25fc77b68429cb55d9c22c2879d47",
       "version_major": 2,
       "version_minor": 0
      },
      "text/plain": [
       "VBox(children=(HTML(value='<b>Enter the lower cutoff frequency for the bandpass filter to be applied on the ra…"
      ]
     },
     "metadata": {},
     "output_type": "display_data"
    },
    {
     "data": {
      "application/vnd.jupyter.widget-view+json": {
       "model_id": "e886fdf9261b4b5d81d1b191fb2c2911",
       "version_major": 2,
       "version_minor": 0
      },
      "text/plain": [
       "VBox(children=(HTML(value='<b>Enter the thresholding coefficient (in terms of multiple of baseline noise rms) …"
      ]
     },
     "metadata": {},
     "output_type": "display_data"
    },
    {
     "data": {
      "application/vnd.jupyter.widget-view+json": {
       "model_id": "3c8d4ecdc46b4540ac9bcc2e836e64ee",
       "version_major": 2,
       "version_minor": 0
      },
      "text/plain": [
       "VBox(children=(HTML(value='<b>Enter the order of the Butterworth bandpass filter used on the raw data'), IntTe…"
      ]
     },
     "metadata": {},
     "output_type": "display_data"
    }
   ],
   "source": [
    "#Creating widgets for the user input on the parameters related to spike sorting\n",
    "\n",
    "##samplesBefore\n",
    "sb = ipywidgets.FloatText(value = 0.5, disabled = False)\n",
    "display(VBox([ipywidgets.HTML(value = '<b>Enter the length of waveform to be taken before the threshold crossing (in ms)'), sb]))\n",
    "\n",
    "##samplesAfter\n",
    "sa = ipywidgets.FloatText(value = 1.5, disabled = False)\n",
    "display(VBox([ipywidgets.HTML(value = \"<b>Enter the length of waveform to be taken after the threshold crossing (in ms)\"), sa]))\n",
    "\n",
    "##lowCutoff\n",
    "lc = ipywidgets.FloatText(value = 300., disabled = False)\n",
    "display(VBox([ipywidgets.HTML(value = \"<b>Enter the lower cutoff frequency for the bandpass filter to be applied on the raw data (in Hz)\"), lc]))\n",
    "\n",
    "##thresholdingCoefficient\n",
    "tc = ipywidgets.FloatText(value = 4.5, disabled = False)\n",
    "display(VBox([ipywidgets.HTML(value = \"<b>Enter the thresholding coefficient (in terms of multiple of baseline noise rms) to be used for spike detection\"), tc]))\n",
    "\n",
    "##Bandpass filter order \n",
    "fo = ipywidgets.IntText(value = 4)\n",
    "display(VBox([ipywidgets.HTML(value = \"<b>Enter the order of the Butterworth bandpass filter used on the raw data\"), fo]))\n"
   ]
  },
  {
   "cell_type": "markdown",
   "metadata": {
    "collapsed": true
   },
   "source": [
    "# 5) Generate the parameters dictionaries\n",
    "\n",
    "Please run the block of the code in order to generate the parameters dictionary for each recording session (paramsDict.p) based on the input that you have provided above. "
   ]
  },
  {
   "cell_type": "code",
   "execution_count": 5,
   "metadata": {},
   "outputs": [
    {
     "name": "stdout",
     "output_type": "stream",
     "text": [
      "/home/baran/Dropbox (Yanik Lab)/Layer 1 Project/Electrophysiology/Experiments/mBY03/20190903\n",
      "Please enter the amplifier port to which the amplifier is connected toA\n",
      "Do spike detection, sorting and post-processing for this session? (y/n)y\n",
      "/home/baran/Dropbox (Yanik Lab)/Layer 1 Project/Electrophysiology/Experiments/mBY03/20190912\n",
      "Please enter the amplifier port to which the amplifier is connected toA\n",
      "Do spike detection, sorting and post-processing for this session? (y/n)y\n",
      "/home/baran/Dropbox (Yanik Lab)/Layer 1 Project/Electrophysiology/Experiments/mBY03/20190906\n",
      "Please enter the amplifier port to which the amplifier is connected toA\n",
      "Do spike detection, sorting and post-processing for this session? (y/n)y\n",
      "/home/baran/Dropbox (Yanik Lab)/Layer 1 Project/Electrophysiology/Experiments/mBY03/20190827\n",
      "Please enter the amplifier port to which the amplifier is connected toA\n",
      "Do spike detection, sorting and post-processing for this session? (y/n)y\n",
      "/home/baran/Dropbox (Yanik Lab)/Layer 1 Project/Electrophysiology/Experiments/mBY03/20190905\n",
      "Please enter the amplifier port to which the amplifier is connected toA\n",
      "Do spike detection, sorting and post-processing for this session? (y/n)y\n",
      "/home/baran/Dropbox (Yanik Lab)/Layer 1 Project/Electrophysiology/Experiments/mBY03/20190904\n",
      "Please enter the amplifier port to which the amplifier is connected toA\n",
      "Do spike detection, sorting and post-processing for this session? (y/n)y\n",
      "/home/baran/Dropbox (Yanik Lab)/Layer 1 Project/Electrophysiology/Experiments/mBY03/20190910\n",
      "Please enter the amplifier port to which the amplifier is connected toA\n",
      "Do spike detection, sorting and post-processing for this session? (y/n)y\n",
      "/home/baran/Dropbox (Yanik Lab)/Layer 1 Project/Electrophysiology/Experiments/mBY03/20190902\n",
      "Please enter the amplifier port to which the amplifier is connected toA\n",
      "Do spike detection, sorting and post-processing for this session? (y/n)y\n",
      "/home/baran/Dropbox (Yanik Lab)/Layer 1 Project/Electrophysiology/Experiments/mBY03/20190901\n",
      "Please enter the amplifier port to which the amplifier is connected toA\n",
      "Do spike detection, sorting and post-processing for this session? (y/n)y\n",
      "/home/baran/Dropbox (Yanik Lab)/Layer 1 Project/Electrophysiology/Experiments/mBY03/20190830\n",
      "Please enter the amplifier port to which the amplifier is connected toA\n",
      "Do spike detection, sorting and post-processing for this session? (y/n)y\n",
      "/home/baran/Dropbox (Yanik Lab)/Layer 1 Project/Electrophysiology/Experiments/mBY03/20190826\n",
      "Please enter the amplifier port to which the amplifier is connected toA\n",
      "Do spike detection, sorting and post-processing for this session? (y/n)y\n",
      "/home/baran/Dropbox (Yanik Lab)/Layer 1 Project/Electrophysiology/Experiments/mBY03/20190909\n",
      "Please enter the amplifier port to which the amplifier is connected toA\n",
      "Do spike detection, sorting and post-processing for this session? (y/n)y\n",
      "/home/baran/Dropbox (Yanik Lab)/Layer 1 Project/Electrophysiology/Experiments/mBY03/20190829\n",
      "Please enter the amplifier port to which the amplifier is connected toA\n",
      "Do spike detection, sorting and post-processing for this session? (y/n)y\n",
      "mBY03_awake_190903_155758\n",
      "Do whisker stimulation evoked analysis for this session? (y/n)n\n",
      "Which channels will be used for software referencing to detect spikes?36,54\n",
      "mBY03_awake_190912_214854\n",
      "Do whisker stimulation evoked analysis for this session? (y/n)n\n",
      "Which channels will be used for software referencing to detect spikes?36,54\n",
      "mBY03_awake_190906_150545\n",
      "Do whisker stimulation evoked analysis for this session? (y/n)n\n",
      "Which channels will be used for software referencing to detect spikes?36,54\n",
      "awake_190827_115823\n",
      "Do whisker stimulation evoked analysis for this session? (y/n)n\n",
      "Which channels will be used for software referencing to detect spikes?36,54\n",
      "mBY03_awake_190905_171611\n",
      "Do whisker stimulation evoked analysis for this session? (y/n)n\n",
      "Which channels will be used for software referencing to detect spikes?36,54\n",
      "mBY03_awake_190904_151211\n",
      "Do whisker stimulation evoked analysis for this session? (y/n)n\n",
      "Which channels will be used for software referencing to detect spikes?36,54\n",
      "mBY03_awake_190910_181531\n",
      "Do whisker stimulation evoked analysis for this session? (y/n)n\n",
      "Which channels will be used for software referencing to detect spikes?36,54\n",
      "mBY03_awake_190902_141021\n",
      "Do whisker stimulation evoked analysis for this session? (y/n)n\n",
      "Which channels will be used for software referencing to detect spikes?36,54\n",
      "mBY03_awake_190901_144757\n",
      "Do whisker stimulation evoked analysis for this session? (y/n)n\n",
      "Which channels will be used for software referencing to detect spikes?36,54\n",
      "mBY03_awake_190830_120956\n",
      "Do whisker stimulation evoked analysis for this session? (y/n)n\n",
      "Which channels will be used for software referencing to detect spikes?36,54\n",
      "mBY03_awake_190830_124042\n",
      "Do whisker stimulation evoked analysis for this session? (y/n)n\n",
      "Which channels will be used for software referencing to detect spikes?36,54\n",
      "1Hz_whisker_stim_190826_132916\n",
      "Do whisker stimulation evoked analysis for this session? (y/n)y\n",
      "Which channels will be used for software referencing to detect spikes?36,54\n",
      "1p_iso_190826_132349\n",
      "Do whisker stimulation evoked analysis for this session? (y/n)n\n",
      "Which channels will be used for software referencing to detect spikes?36,54\n",
      "spont_2p_iso_190826_132653\n",
      "Do whisker stimulation evoked analysis for this session? (y/n)n\n",
      "Which channels will be used for software referencing to detect spikes?36,54\n",
      "mBY03_awake_190909_162001\n",
      "Do whisker stimulation evoked analysis for this session? (y/n)n\n",
      "Which channels will be used for software referencing to detect spikes?36,54\n",
      "2019_08_29_mBY03_190829_094810\n",
      "Do whisker stimulation evoked analysis for this session? (y/n)n\n",
      "Which channels will be used for software referencing to detect spikes?36,54\n",
      "2019_08_29_mBY03_190829_094956\n",
      "Do whisker stimulation evoked analysis for this session? (y/n)n\n",
      "Which channels will be used for software referencing to detect spikes?36,54\n"
     ]
    }
   ],
   "source": [
    "experiment = Experiment(mp.value, et.value)\n",
    "if et.value == 'Acute':\n",
    "    subExperiments = glob(mp.value + '/loc*')\n",
    "elif et.value == 'Chronic':\n",
    "    subExperiments = glob(mp.value + '/20*')\n",
    "\n",
    "for subExperiment in subExperiments:\n",
    "    experiment.add_subExperiment(subExperiment)\n",
    "\n",
    "for subExperiment_index in experiment.subExperiments:\n",
    "    subExperiment = experiment.subExperiments[subExperiment_index]\n",
    "    subExperiment.add_sessions_in_dir()\n",
    "    \n",
    "    for session_index in subExperiment.sessions:\n",
    "        session = subExperiment.sessions[session_index]\n",
    "        session.setTrigChannels(wsp.value)"
   ]
  },
  {
   "cell_type": "code",
   "execution_count": 6,
   "metadata": {
    "scrolled": true
   },
   "outputs": [
    {
     "name": "stdout",
     "output_type": "stream",
     "text": [
      "\n",
      "Reading Intan Technologies RHD2000 Data File, Version 1.5\n",
      "\n",
      "Found 64 amplifier channels.\n",
      "Found 3 auxiliary input channels.\n",
      "Found 1 supply voltage channel.\n",
      "Found 0 board ADC channels.\n",
      "Found 0 board digital input channels.\n",
      "Found 0 board digital output channels.\n",
      "Found 0 temperature sensors channels.\n",
      "\n",
      "Header file contains no data.  Amplifiers were sampled at 30.00 kS/s.\n",
      "Done!  Elapsed time: 0.0 seconds\n"
     ]
    }
   ],
   "source": [
    "experiment.amplifier = experiment.subExperiments[0].sessions[0].amplifier\n",
    "if experiment.amplifier == 'rhd':\n",
    "    header_dir = experiment.subExperiments[0].sessions[0].dir + '/info.rhd' \n",
    "\n",
    "experiment.createProbe(mp.value, pi.value)    \n",
    "    \n",
    "header = read_data(header_dir)\n",
    "sr = header['frequency_parameters']['amplifier_sample_rate']\n",
    "\n",
    "#General parameters   \n",
    "experiment.fileformat = ff.value\n",
    "experiment.sample_rate = sr\n",
    "\n",
    "#Parameters related to spike sorting \n",
    "experiment.low_cutoff_bandpass = lc.value\n",
    "experiment.spike_samples_before = int(sb.value * experiment.sample_rate / 1000)\n",
    "experiment.spike_samples_after = int(sa.value * experiment.sample_rate / 1000)\n",
    "experiment.threshold_coeff = tc.value \n",
    "experiment.bandfilter_order = fo.value\n",
    "\n",
    "#Parameters related to evoked LFP analysis \n",
    "experiment.cut_beginning = cb.value \n",
    "experiment.cut_end = ce.value\n",
    "experiment.low_pass_freq = lp.value\n",
    "experiment.low_pass_order = lp_order.value \n",
    "experiment.whisker_evoked_pre = wpre.value\n",
    "experiment.whisker_evoked_post = wpost.value\n",
    "experiment.downsampling_factor = ds.value "
   ]
  },
  {
   "cell_type": "markdown",
   "metadata": {},
   "source": [
    "# 6) Read and analyze stimulus evoked LFPs, generate dictionaries for spike sorting analysis"
   ]
  },
  {
   "cell_type": "code",
   "execution_count": 7,
   "metadata": {
    "scrolled": false
   },
   "outputs": [
    {
     "name": "stdout",
     "output_type": "stream",
     "text": [
      "subExperiment:20190903\n",
      "Session:mBY03_awake_190903_155758\n",
      "Pre-processing data for spike sorting\n",
      "Channel group: 0\n",
      "subExperiment:20190912\n",
      "Session:mBY03_awake_190912_214854\n",
      "Pre-processing data for spike sorting\n",
      "Channel group: 0\n",
      "subExperiment:20190906\n",
      "Session:mBY03_awake_190906_150545\n",
      "Pre-processing data for spike sorting\n",
      "Channel group: 0\n",
      "subExperiment:20190827\n",
      "Session:awake_190827_115823\n",
      "Pre-processing data for spike sorting\n",
      "Channel group: 0\n",
      "subExperiment:20190905\n",
      "Session:mBY03_awake_190905_171611\n",
      "Pre-processing data for spike sorting\n",
      "Channel group: 0\n",
      "subExperiment:20190904\n",
      "Session:mBY03_awake_190904_151211\n",
      "Pre-processing data for spike sorting\n",
      "Channel group: 0\n",
      "subExperiment:20190910\n",
      "Session:mBY03_awake_190910_181531\n",
      "Pre-processing data for spike sorting\n",
      "Channel group: 0\n",
      "subExperiment:20190902\n",
      "Session:mBY03_awake_190902_141021\n",
      "Pre-processing data for spike sorting\n",
      "Channel group: 0\n",
      "subExperiment:20190901\n",
      "Session:mBY03_awake_190901_144757\n",
      "Pre-processing data for spike sorting\n",
      "Channel group: 0\n",
      "subExperiment:20190830\n",
      "Session:mBY03_awake_190830_120956\n",
      "Pre-processing data for spike sorting\n",
      "Channel group: 0\n",
      "Session:mBY03_awake_190830_124042\n",
      "Pre-processing data for spike sorting\n",
      "Channel group: 0\n",
      "subExperiment:20190826\n",
      "Session:1Hz_whisker_stim_190826_132916\n",
      "Analyzing evoked LFPs\n",
      "Channel group: 0\n",
      "Pre-processing data for spike sorting\n",
      "Channel group: 0\n",
      "Session:1p_iso_190826_132349\n",
      "Pre-processing data for spike sorting\n",
      "Channel group: 0\n",
      "Session:spont_2p_iso_190826_132653\n",
      "Pre-processing data for spike sorting\n",
      "Channel group: 0\n",
      "subExperiment:20190909\n",
      "Session:mBY03_awake_190909_162001\n",
      "Pre-processing data for spike sorting\n",
      "Channel group: 0\n",
      "subExperiment:20190829\n",
      "Session:2019_08_29_mBY03_190829_094810\n",
      "Pre-processing data for spike sorting\n",
      "Channel group: 0\n",
      "Session:2019_08_29_mBY03_190829_094956\n",
      "Pre-processing data for spike sorting\n",
      "Channel group: 0\n"
     ]
    }
   ],
   "source": [
    "f = h5py.File(experiment.dir + '/analysis_results.hdf5', 'a')\n",
    "analysis_files_dir = mp.value + '/analysis_files'\n",
    "if not os.path.exists(analysis_files_dir):\n",
    "    os.mkdir(analysis_files_dir)\n",
    "\n",
    "for subExperiment_index in experiment.subExperiments:\n",
    "    subExperiment = experiment.subExperiments[subExperiment_index]\n",
    "    print(\"subExperiment:\" + subExperiment.name)\n",
    "    subExperiment_grp = f.create_group(subExperiment.name)\n",
    "    \n",
    "    subExperiment_analysis_files_dir = analysis_files_dir + '/' + subExperiment.name\n",
    "    if not os.path.exists(subExperiment_analysis_files_dir):\n",
    "        os.mkdir(subExperiment_analysis_files_dir)\n",
    "    \n",
    "    for session_index in subExperiment.sessions:\n",
    "        session = subExperiment.sessions[session_index]\n",
    "        print(\"Session:\" + session.name)\n",
    "        ses_grp = subExperiment_grp.create_group(session.name)\n",
    "        \n",
    "        session_analysis_files_dir = subExperiment_analysis_files_dir + '/' + session.name\n",
    "        if not os.path.exists(session_analysis_files_dir):\n",
    "            os.mkdir(session_analysis_files_dir)\n",
    "        \n",
    "        for group in range(experiment.probe.nr_of_groups):\n",
    "            ch_grp = ses_grp.create_group('group_{:g}'.format(group))\n",
    "        \n",
    "        if session.preferences['do_whisker_stim_evoked'] == 'y':\n",
    "            print(\"Analyzing evoked LFPs\")\n",
    "            evoked_LFP_analysis_files_dir = session_analysis_files_dir + '/evoked_LFP_analysis'\n",
    "            if not os.path.exists(evoked_LFP_analysis_files_dir):\n",
    "                os.mkdir(evoked_LFP_analysis_files_dir)\n",
    "            \n",
    "            stim_timestamps = read_stimulus_trigger(session)\n",
    "            for group in range(experiment.probe.nr_of_groups):\n",
    "                print(\"Channel group: \" + str(group))\n",
    "                read_evoked_lfp(group,session)\n",
    "        \n",
    "        if session.subExperiment.preferences['do_spike_analysis'] == 'y':\n",
    "            print(\"Pre-processing data for spike sorting\")\n",
    "            spike_sorting_analysis_files_dir = session_analysis_files_dir + '/spike_sorting'\n",
    "            if not os.path.exists(spike_sorting_analysis_files_dir):\n",
    "                os.mkdir(spike_sorting_analysis_files_dir)\n",
    "            \n",
    "            for group in range(experiment.probe.nr_of_groups):\n",
    "                if not os.path.exists(spike_sorting_analysis_files_dir + '/group_{:}'.format(group)):\n",
    "                    os.mkdir(spike_sorting_analysis_files_dir + '/group_{:}'.format(group))\n",
    "                print(\"Channel group: \" + str(group))\n",
    "                create_prm_file(group, session)\n",
    "                shutil.copy(mp.value + '/' + pi.value + '.prb', spike_sorting_analysis_files_dir + '/group_{:}/group_{:}.prb'.format(group,group))\n",
    "                read_group_into_dat_file(session, group, spike_sorting_analysis_files_dir)\n",
    "\n",
    "f.close()"
   ]
  },
  {
   "cell_type": "code",
   "execution_count": 8,
   "metadata": {},
   "outputs": [],
   "source": [
    "pickle.dump(experiment, open((mp.value + '/experiment_params.p'), 'wb'))"
   ]
  },
  {
   "cell_type": "code",
   "execution_count": 9,
   "metadata": {},
   "outputs": [
    {
     "data": {
      "text/plain": [
       "{'notes': {'note1': '', 'note2': '', 'note3': ''},\n",
       " 'frequency_parameters': {'dsp_enabled': 1,\n",
       "  'actual_dsp_cutoff_frequency': 1.165827989578247,\n",
       "  'actual_lower_bandwidth': 0.09452909976243973,\n",
       "  'actual_upper_bandwidth': 7603.76513671875,\n",
       "  'desired_dsp_cutoff_frequency': 1.0,\n",
       "  'desired_lower_bandwidth': 0.10000000149011612,\n",
       "  'desired_upper_bandwidth': 7500.0,\n",
       "  'notch_filter_frequency': 0,\n",
       "  'desired_impedance_test_frequency': 1000.0,\n",
       "  'actual_impedance_test_frequency': 1000.0,\n",
       "  'amplifier_sample_rate': 30000.0,\n",
       "  'aux_input_sample_rate': 7500.0,\n",
       "  'supply_voltage_sample_rate': 500.0,\n",
       "  'board_adc_sample_rate': 30000.0,\n",
       "  'board_dig_in_sample_rate': 30000.0},\n",
       " 'amplifier_channels': [{'port_name': 'Port A',\n",
       "   'port_prefix': 'A',\n",
       "   'port_number': 0,\n",
       "   'native_channel_name': 'A-000',\n",
       "   'custom_channel_name': 'A-000',\n",
       "   'native_order': 0,\n",
       "   'custom_order': 0,\n",
       "   'chip_channel': 0,\n",
       "   'board_stream': 0,\n",
       "   'electrode_impedance_magnitude': 0.0,\n",
       "   'electrode_impedance_phase': 0.0},\n",
       "  {'port_name': 'Port A',\n",
       "   'port_prefix': 'A',\n",
       "   'port_number': 0,\n",
       "   'native_channel_name': 'A-001',\n",
       "   'custom_channel_name': 'A-001',\n",
       "   'native_order': 1,\n",
       "   'custom_order': 1,\n",
       "   'chip_channel': 1,\n",
       "   'board_stream': 0,\n",
       "   'electrode_impedance_magnitude': 0.0,\n",
       "   'electrode_impedance_phase': 0.0},\n",
       "  {'port_name': 'Port A',\n",
       "   'port_prefix': 'A',\n",
       "   'port_number': 0,\n",
       "   'native_channel_name': 'A-002',\n",
       "   'custom_channel_name': 'A-002',\n",
       "   'native_order': 2,\n",
       "   'custom_order': 2,\n",
       "   'chip_channel': 2,\n",
       "   'board_stream': 0,\n",
       "   'electrode_impedance_magnitude': 0.0,\n",
       "   'electrode_impedance_phase': 0.0},\n",
       "  {'port_name': 'Port A',\n",
       "   'port_prefix': 'A',\n",
       "   'port_number': 0,\n",
       "   'native_channel_name': 'A-003',\n",
       "   'custom_channel_name': 'A-003',\n",
       "   'native_order': 3,\n",
       "   'custom_order': 3,\n",
       "   'chip_channel': 3,\n",
       "   'board_stream': 0,\n",
       "   'electrode_impedance_magnitude': 0.0,\n",
       "   'electrode_impedance_phase': 0.0},\n",
       "  {'port_name': 'Port A',\n",
       "   'port_prefix': 'A',\n",
       "   'port_number': 0,\n",
       "   'native_channel_name': 'A-004',\n",
       "   'custom_channel_name': 'A-004',\n",
       "   'native_order': 4,\n",
       "   'custom_order': 4,\n",
       "   'chip_channel': 4,\n",
       "   'board_stream': 0,\n",
       "   'electrode_impedance_magnitude': 0.0,\n",
       "   'electrode_impedance_phase': 0.0},\n",
       "  {'port_name': 'Port A',\n",
       "   'port_prefix': 'A',\n",
       "   'port_number': 0,\n",
       "   'native_channel_name': 'A-005',\n",
       "   'custom_channel_name': 'A-005',\n",
       "   'native_order': 5,\n",
       "   'custom_order': 5,\n",
       "   'chip_channel': 5,\n",
       "   'board_stream': 0,\n",
       "   'electrode_impedance_magnitude': 0.0,\n",
       "   'electrode_impedance_phase': 0.0},\n",
       "  {'port_name': 'Port A',\n",
       "   'port_prefix': 'A',\n",
       "   'port_number': 0,\n",
       "   'native_channel_name': 'A-006',\n",
       "   'custom_channel_name': 'A-006',\n",
       "   'native_order': 6,\n",
       "   'custom_order': 6,\n",
       "   'chip_channel': 6,\n",
       "   'board_stream': 0,\n",
       "   'electrode_impedance_magnitude': 0.0,\n",
       "   'electrode_impedance_phase': 0.0},\n",
       "  {'port_name': 'Port A',\n",
       "   'port_prefix': 'A',\n",
       "   'port_number': 0,\n",
       "   'native_channel_name': 'A-007',\n",
       "   'custom_channel_name': 'A-007',\n",
       "   'native_order': 7,\n",
       "   'custom_order': 7,\n",
       "   'chip_channel': 7,\n",
       "   'board_stream': 0,\n",
       "   'electrode_impedance_magnitude': 0.0,\n",
       "   'electrode_impedance_phase': 0.0},\n",
       "  {'port_name': 'Port A',\n",
       "   'port_prefix': 'A',\n",
       "   'port_number': 0,\n",
       "   'native_channel_name': 'A-008',\n",
       "   'custom_channel_name': 'A-008',\n",
       "   'native_order': 8,\n",
       "   'custom_order': 8,\n",
       "   'chip_channel': 8,\n",
       "   'board_stream': 0,\n",
       "   'electrode_impedance_magnitude': 0.0,\n",
       "   'electrode_impedance_phase': 0.0},\n",
       "  {'port_name': 'Port A',\n",
       "   'port_prefix': 'A',\n",
       "   'port_number': 0,\n",
       "   'native_channel_name': 'A-009',\n",
       "   'custom_channel_name': 'A-009',\n",
       "   'native_order': 9,\n",
       "   'custom_order': 9,\n",
       "   'chip_channel': 9,\n",
       "   'board_stream': 0,\n",
       "   'electrode_impedance_magnitude': 0.0,\n",
       "   'electrode_impedance_phase': 0.0},\n",
       "  {'port_name': 'Port A',\n",
       "   'port_prefix': 'A',\n",
       "   'port_number': 0,\n",
       "   'native_channel_name': 'A-010',\n",
       "   'custom_channel_name': 'A-010',\n",
       "   'native_order': 10,\n",
       "   'custom_order': 10,\n",
       "   'chip_channel': 10,\n",
       "   'board_stream': 0,\n",
       "   'electrode_impedance_magnitude': 0.0,\n",
       "   'electrode_impedance_phase': 0.0},\n",
       "  {'port_name': 'Port A',\n",
       "   'port_prefix': 'A',\n",
       "   'port_number': 0,\n",
       "   'native_channel_name': 'A-011',\n",
       "   'custom_channel_name': 'A-011',\n",
       "   'native_order': 11,\n",
       "   'custom_order': 11,\n",
       "   'chip_channel': 11,\n",
       "   'board_stream': 0,\n",
       "   'electrode_impedance_magnitude': 0.0,\n",
       "   'electrode_impedance_phase': 0.0},\n",
       "  {'port_name': 'Port A',\n",
       "   'port_prefix': 'A',\n",
       "   'port_number': 0,\n",
       "   'native_channel_name': 'A-012',\n",
       "   'custom_channel_name': 'A-012',\n",
       "   'native_order': 12,\n",
       "   'custom_order': 12,\n",
       "   'chip_channel': 12,\n",
       "   'board_stream': 0,\n",
       "   'electrode_impedance_magnitude': 0.0,\n",
       "   'electrode_impedance_phase': 0.0},\n",
       "  {'port_name': 'Port A',\n",
       "   'port_prefix': 'A',\n",
       "   'port_number': 0,\n",
       "   'native_channel_name': 'A-013',\n",
       "   'custom_channel_name': 'A-013',\n",
       "   'native_order': 13,\n",
       "   'custom_order': 13,\n",
       "   'chip_channel': 13,\n",
       "   'board_stream': 0,\n",
       "   'electrode_impedance_magnitude': 0.0,\n",
       "   'electrode_impedance_phase': 0.0},\n",
       "  {'port_name': 'Port A',\n",
       "   'port_prefix': 'A',\n",
       "   'port_number': 0,\n",
       "   'native_channel_name': 'A-014',\n",
       "   'custom_channel_name': 'A-014',\n",
       "   'native_order': 14,\n",
       "   'custom_order': 14,\n",
       "   'chip_channel': 14,\n",
       "   'board_stream': 0,\n",
       "   'electrode_impedance_magnitude': 0.0,\n",
       "   'electrode_impedance_phase': 0.0},\n",
       "  {'port_name': 'Port A',\n",
       "   'port_prefix': 'A',\n",
       "   'port_number': 0,\n",
       "   'native_channel_name': 'A-015',\n",
       "   'custom_channel_name': 'A-015',\n",
       "   'native_order': 15,\n",
       "   'custom_order': 15,\n",
       "   'chip_channel': 15,\n",
       "   'board_stream': 0,\n",
       "   'electrode_impedance_magnitude': 0.0,\n",
       "   'electrode_impedance_phase': 0.0},\n",
       "  {'port_name': 'Port A',\n",
       "   'port_prefix': 'A',\n",
       "   'port_number': 0,\n",
       "   'native_channel_name': 'A-016',\n",
       "   'custom_channel_name': 'A-016',\n",
       "   'native_order': 16,\n",
       "   'custom_order': 16,\n",
       "   'chip_channel': 16,\n",
       "   'board_stream': 0,\n",
       "   'electrode_impedance_magnitude': 0.0,\n",
       "   'electrode_impedance_phase': 0.0},\n",
       "  {'port_name': 'Port A',\n",
       "   'port_prefix': 'A',\n",
       "   'port_number': 0,\n",
       "   'native_channel_name': 'A-017',\n",
       "   'custom_channel_name': 'A-017',\n",
       "   'native_order': 17,\n",
       "   'custom_order': 17,\n",
       "   'chip_channel': 17,\n",
       "   'board_stream': 0,\n",
       "   'electrode_impedance_magnitude': 0.0,\n",
       "   'electrode_impedance_phase': 0.0},\n",
       "  {'port_name': 'Port A',\n",
       "   'port_prefix': 'A',\n",
       "   'port_number': 0,\n",
       "   'native_channel_name': 'A-018',\n",
       "   'custom_channel_name': 'A-018',\n",
       "   'native_order': 18,\n",
       "   'custom_order': 18,\n",
       "   'chip_channel': 18,\n",
       "   'board_stream': 0,\n",
       "   'electrode_impedance_magnitude': 0.0,\n",
       "   'electrode_impedance_phase': 0.0},\n",
       "  {'port_name': 'Port A',\n",
       "   'port_prefix': 'A',\n",
       "   'port_number': 0,\n",
       "   'native_channel_name': 'A-019',\n",
       "   'custom_channel_name': 'A-019',\n",
       "   'native_order': 19,\n",
       "   'custom_order': 19,\n",
       "   'chip_channel': 19,\n",
       "   'board_stream': 0,\n",
       "   'electrode_impedance_magnitude': 0.0,\n",
       "   'electrode_impedance_phase': 0.0},\n",
       "  {'port_name': 'Port A',\n",
       "   'port_prefix': 'A',\n",
       "   'port_number': 0,\n",
       "   'native_channel_name': 'A-020',\n",
       "   'custom_channel_name': 'A-020',\n",
       "   'native_order': 20,\n",
       "   'custom_order': 20,\n",
       "   'chip_channel': 20,\n",
       "   'board_stream': 0,\n",
       "   'electrode_impedance_magnitude': 0.0,\n",
       "   'electrode_impedance_phase': 0.0},\n",
       "  {'port_name': 'Port A',\n",
       "   'port_prefix': 'A',\n",
       "   'port_number': 0,\n",
       "   'native_channel_name': 'A-021',\n",
       "   'custom_channel_name': 'A-021',\n",
       "   'native_order': 21,\n",
       "   'custom_order': 21,\n",
       "   'chip_channel': 21,\n",
       "   'board_stream': 0,\n",
       "   'electrode_impedance_magnitude': 0.0,\n",
       "   'electrode_impedance_phase': 0.0},\n",
       "  {'port_name': 'Port A',\n",
       "   'port_prefix': 'A',\n",
       "   'port_number': 0,\n",
       "   'native_channel_name': 'A-022',\n",
       "   'custom_channel_name': 'A-022',\n",
       "   'native_order': 22,\n",
       "   'custom_order': 22,\n",
       "   'chip_channel': 22,\n",
       "   'board_stream': 0,\n",
       "   'electrode_impedance_magnitude': 0.0,\n",
       "   'electrode_impedance_phase': 0.0},\n",
       "  {'port_name': 'Port A',\n",
       "   'port_prefix': 'A',\n",
       "   'port_number': 0,\n",
       "   'native_channel_name': 'A-023',\n",
       "   'custom_channel_name': 'A-023',\n",
       "   'native_order': 23,\n",
       "   'custom_order': 23,\n",
       "   'chip_channel': 23,\n",
       "   'board_stream': 0,\n",
       "   'electrode_impedance_magnitude': 0.0,\n",
       "   'electrode_impedance_phase': 0.0},\n",
       "  {'port_name': 'Port A',\n",
       "   'port_prefix': 'A',\n",
       "   'port_number': 0,\n",
       "   'native_channel_name': 'A-024',\n",
       "   'custom_channel_name': 'A-024',\n",
       "   'native_order': 24,\n",
       "   'custom_order': 24,\n",
       "   'chip_channel': 24,\n",
       "   'board_stream': 0,\n",
       "   'electrode_impedance_magnitude': 0.0,\n",
       "   'electrode_impedance_phase': 0.0},\n",
       "  {'port_name': 'Port A',\n",
       "   'port_prefix': 'A',\n",
       "   'port_number': 0,\n",
       "   'native_channel_name': 'A-025',\n",
       "   'custom_channel_name': 'A-025',\n",
       "   'native_order': 25,\n",
       "   'custom_order': 25,\n",
       "   'chip_channel': 25,\n",
       "   'board_stream': 0,\n",
       "   'electrode_impedance_magnitude': 0.0,\n",
       "   'electrode_impedance_phase': 0.0},\n",
       "  {'port_name': 'Port A',\n",
       "   'port_prefix': 'A',\n",
       "   'port_number': 0,\n",
       "   'native_channel_name': 'A-026',\n",
       "   'custom_channel_name': 'A-026',\n",
       "   'native_order': 26,\n",
       "   'custom_order': 26,\n",
       "   'chip_channel': 26,\n",
       "   'board_stream': 0,\n",
       "   'electrode_impedance_magnitude': 0.0,\n",
       "   'electrode_impedance_phase': 0.0},\n",
       "  {'port_name': 'Port A',\n",
       "   'port_prefix': 'A',\n",
       "   'port_number': 0,\n",
       "   'native_channel_name': 'A-027',\n",
       "   'custom_channel_name': 'A-027',\n",
       "   'native_order': 27,\n",
       "   'custom_order': 27,\n",
       "   'chip_channel': 27,\n",
       "   'board_stream': 0,\n",
       "   'electrode_impedance_magnitude': 0.0,\n",
       "   'electrode_impedance_phase': 0.0},\n",
       "  {'port_name': 'Port A',\n",
       "   'port_prefix': 'A',\n",
       "   'port_number': 0,\n",
       "   'native_channel_name': 'A-028',\n",
       "   'custom_channel_name': 'A-028',\n",
       "   'native_order': 28,\n",
       "   'custom_order': 28,\n",
       "   'chip_channel': 28,\n",
       "   'board_stream': 0,\n",
       "   'electrode_impedance_magnitude': 0.0,\n",
       "   'electrode_impedance_phase': 0.0},\n",
       "  {'port_name': 'Port A',\n",
       "   'port_prefix': 'A',\n",
       "   'port_number': 0,\n",
       "   'native_channel_name': 'A-029',\n",
       "   'custom_channel_name': 'A-029',\n",
       "   'native_order': 29,\n",
       "   'custom_order': 29,\n",
       "   'chip_channel': 29,\n",
       "   'board_stream': 0,\n",
       "   'electrode_impedance_magnitude': 0.0,\n",
       "   'electrode_impedance_phase': 0.0},\n",
       "  {'port_name': 'Port A',\n",
       "   'port_prefix': 'A',\n",
       "   'port_number': 0,\n",
       "   'native_channel_name': 'A-030',\n",
       "   'custom_channel_name': 'A-030',\n",
       "   'native_order': 30,\n",
       "   'custom_order': 30,\n",
       "   'chip_channel': 30,\n",
       "   'board_stream': 0,\n",
       "   'electrode_impedance_magnitude': 0.0,\n",
       "   'electrode_impedance_phase': 0.0},\n",
       "  {'port_name': 'Port A',\n",
       "   'port_prefix': 'A',\n",
       "   'port_number': 0,\n",
       "   'native_channel_name': 'A-031',\n",
       "   'custom_channel_name': 'A-031',\n",
       "   'native_order': 31,\n",
       "   'custom_order': 31,\n",
       "   'chip_channel': 31,\n",
       "   'board_stream': 0,\n",
       "   'electrode_impedance_magnitude': 0.0,\n",
       "   'electrode_impedance_phase': 0.0},\n",
       "  {'port_name': 'Port A',\n",
       "   'port_prefix': 'A',\n",
       "   'port_number': 0,\n",
       "   'native_channel_name': 'A-032',\n",
       "   'custom_channel_name': 'A-032',\n",
       "   'native_order': 32,\n",
       "   'custom_order': 32,\n",
       "   'chip_channel': 0,\n",
       "   'board_stream': 1,\n",
       "   'electrode_impedance_magnitude': 0.0,\n",
       "   'electrode_impedance_phase': 0.0},\n",
       "  {'port_name': 'Port A',\n",
       "   'port_prefix': 'A',\n",
       "   'port_number': 0,\n",
       "   'native_channel_name': 'A-033',\n",
       "   'custom_channel_name': 'A-033',\n",
       "   'native_order': 33,\n",
       "   'custom_order': 33,\n",
       "   'chip_channel': 1,\n",
       "   'board_stream': 1,\n",
       "   'electrode_impedance_magnitude': 0.0,\n",
       "   'electrode_impedance_phase': 0.0},\n",
       "  {'port_name': 'Port A',\n",
       "   'port_prefix': 'A',\n",
       "   'port_number': 0,\n",
       "   'native_channel_name': 'A-034',\n",
       "   'custom_channel_name': 'A-034',\n",
       "   'native_order': 34,\n",
       "   'custom_order': 34,\n",
       "   'chip_channel': 2,\n",
       "   'board_stream': 1,\n",
       "   'electrode_impedance_magnitude': 0.0,\n",
       "   'electrode_impedance_phase': 0.0},\n",
       "  {'port_name': 'Port A',\n",
       "   'port_prefix': 'A',\n",
       "   'port_number': 0,\n",
       "   'native_channel_name': 'A-035',\n",
       "   'custom_channel_name': 'A-035',\n",
       "   'native_order': 35,\n",
       "   'custom_order': 35,\n",
       "   'chip_channel': 3,\n",
       "   'board_stream': 1,\n",
       "   'electrode_impedance_magnitude': 0.0,\n",
       "   'electrode_impedance_phase': 0.0},\n",
       "  {'port_name': 'Port A',\n",
       "   'port_prefix': 'A',\n",
       "   'port_number': 0,\n",
       "   'native_channel_name': 'A-036',\n",
       "   'custom_channel_name': 'A-036',\n",
       "   'native_order': 36,\n",
       "   'custom_order': 36,\n",
       "   'chip_channel': 4,\n",
       "   'board_stream': 1,\n",
       "   'electrode_impedance_magnitude': 0.0,\n",
       "   'electrode_impedance_phase': 0.0},\n",
       "  {'port_name': 'Port A',\n",
       "   'port_prefix': 'A',\n",
       "   'port_number': 0,\n",
       "   'native_channel_name': 'A-037',\n",
       "   'custom_channel_name': 'A-037',\n",
       "   'native_order': 37,\n",
       "   'custom_order': 37,\n",
       "   'chip_channel': 5,\n",
       "   'board_stream': 1,\n",
       "   'electrode_impedance_magnitude': 0.0,\n",
       "   'electrode_impedance_phase': 0.0},\n",
       "  {'port_name': 'Port A',\n",
       "   'port_prefix': 'A',\n",
       "   'port_number': 0,\n",
       "   'native_channel_name': 'A-038',\n",
       "   'custom_channel_name': 'A-038',\n",
       "   'native_order': 38,\n",
       "   'custom_order': 38,\n",
       "   'chip_channel': 6,\n",
       "   'board_stream': 1,\n",
       "   'electrode_impedance_magnitude': 0.0,\n",
       "   'electrode_impedance_phase': 0.0},\n",
       "  {'port_name': 'Port A',\n",
       "   'port_prefix': 'A',\n",
       "   'port_number': 0,\n",
       "   'native_channel_name': 'A-039',\n",
       "   'custom_channel_name': 'A-039',\n",
       "   'native_order': 39,\n",
       "   'custom_order': 39,\n",
       "   'chip_channel': 7,\n",
       "   'board_stream': 1,\n",
       "   'electrode_impedance_magnitude': 0.0,\n",
       "   'electrode_impedance_phase': 0.0},\n",
       "  {'port_name': 'Port A',\n",
       "   'port_prefix': 'A',\n",
       "   'port_number': 0,\n",
       "   'native_channel_name': 'A-040',\n",
       "   'custom_channel_name': 'A-040',\n",
       "   'native_order': 40,\n",
       "   'custom_order': 40,\n",
       "   'chip_channel': 8,\n",
       "   'board_stream': 1,\n",
       "   'electrode_impedance_magnitude': 0.0,\n",
       "   'electrode_impedance_phase': 0.0},\n",
       "  {'port_name': 'Port A',\n",
       "   'port_prefix': 'A',\n",
       "   'port_number': 0,\n",
       "   'native_channel_name': 'A-041',\n",
       "   'custom_channel_name': 'A-041',\n",
       "   'native_order': 41,\n",
       "   'custom_order': 41,\n",
       "   'chip_channel': 9,\n",
       "   'board_stream': 1,\n",
       "   'electrode_impedance_magnitude': 0.0,\n",
       "   'electrode_impedance_phase': 0.0},\n",
       "  {'port_name': 'Port A',\n",
       "   'port_prefix': 'A',\n",
       "   'port_number': 0,\n",
       "   'native_channel_name': 'A-042',\n",
       "   'custom_channel_name': 'A-042',\n",
       "   'native_order': 42,\n",
       "   'custom_order': 42,\n",
       "   'chip_channel': 10,\n",
       "   'board_stream': 1,\n",
       "   'electrode_impedance_magnitude': 0.0,\n",
       "   'electrode_impedance_phase': 0.0},\n",
       "  {'port_name': 'Port A',\n",
       "   'port_prefix': 'A',\n",
       "   'port_number': 0,\n",
       "   'native_channel_name': 'A-043',\n",
       "   'custom_channel_name': 'A-043',\n",
       "   'native_order': 43,\n",
       "   'custom_order': 43,\n",
       "   'chip_channel': 11,\n",
       "   'board_stream': 1,\n",
       "   'electrode_impedance_magnitude': 0.0,\n",
       "   'electrode_impedance_phase': 0.0},\n",
       "  {'port_name': 'Port A',\n",
       "   'port_prefix': 'A',\n",
       "   'port_number': 0,\n",
       "   'native_channel_name': 'A-044',\n",
       "   'custom_channel_name': 'A-044',\n",
       "   'native_order': 44,\n",
       "   'custom_order': 44,\n",
       "   'chip_channel': 12,\n",
       "   'board_stream': 1,\n",
       "   'electrode_impedance_magnitude': 0.0,\n",
       "   'electrode_impedance_phase': 0.0},\n",
       "  {'port_name': 'Port A',\n",
       "   'port_prefix': 'A',\n",
       "   'port_number': 0,\n",
       "   'native_channel_name': 'A-045',\n",
       "   'custom_channel_name': 'A-045',\n",
       "   'native_order': 45,\n",
       "   'custom_order': 45,\n",
       "   'chip_channel': 13,\n",
       "   'board_stream': 1,\n",
       "   'electrode_impedance_magnitude': 0.0,\n",
       "   'electrode_impedance_phase': 0.0},\n",
       "  {'port_name': 'Port A',\n",
       "   'port_prefix': 'A',\n",
       "   'port_number': 0,\n",
       "   'native_channel_name': 'A-046',\n",
       "   'custom_channel_name': 'A-046',\n",
       "   'native_order': 46,\n",
       "   'custom_order': 46,\n",
       "   'chip_channel': 14,\n",
       "   'board_stream': 1,\n",
       "   'electrode_impedance_magnitude': 0.0,\n",
       "   'electrode_impedance_phase': 0.0},\n",
       "  {'port_name': 'Port A',\n",
       "   'port_prefix': 'A',\n",
       "   'port_number': 0,\n",
       "   'native_channel_name': 'A-047',\n",
       "   'custom_channel_name': 'A-047',\n",
       "   'native_order': 47,\n",
       "   'custom_order': 47,\n",
       "   'chip_channel': 15,\n",
       "   'board_stream': 1,\n",
       "   'electrode_impedance_magnitude': 0.0,\n",
       "   'electrode_impedance_phase': 0.0},\n",
       "  {'port_name': 'Port A',\n",
       "   'port_prefix': 'A',\n",
       "   'port_number': 0,\n",
       "   'native_channel_name': 'A-048',\n",
       "   'custom_channel_name': 'A-048',\n",
       "   'native_order': 48,\n",
       "   'custom_order': 48,\n",
       "   'chip_channel': 16,\n",
       "   'board_stream': 1,\n",
       "   'electrode_impedance_magnitude': 0.0,\n",
       "   'electrode_impedance_phase': 0.0},\n",
       "  {'port_name': 'Port A',\n",
       "   'port_prefix': 'A',\n",
       "   'port_number': 0,\n",
       "   'native_channel_name': 'A-049',\n",
       "   'custom_channel_name': 'A-049',\n",
       "   'native_order': 49,\n",
       "   'custom_order': 49,\n",
       "   'chip_channel': 17,\n",
       "   'board_stream': 1,\n",
       "   'electrode_impedance_magnitude': 0.0,\n",
       "   'electrode_impedance_phase': 0.0},\n",
       "  {'port_name': 'Port A',\n",
       "   'port_prefix': 'A',\n",
       "   'port_number': 0,\n",
       "   'native_channel_name': 'A-050',\n",
       "   'custom_channel_name': 'A-050',\n",
       "   'native_order': 50,\n",
       "   'custom_order': 50,\n",
       "   'chip_channel': 18,\n",
       "   'board_stream': 1,\n",
       "   'electrode_impedance_magnitude': 0.0,\n",
       "   'electrode_impedance_phase': 0.0},\n",
       "  {'port_name': 'Port A',\n",
       "   'port_prefix': 'A',\n",
       "   'port_number': 0,\n",
       "   'native_channel_name': 'A-051',\n",
       "   'custom_channel_name': 'A-051',\n",
       "   'native_order': 51,\n",
       "   'custom_order': 51,\n",
       "   'chip_channel': 19,\n",
       "   'board_stream': 1,\n",
       "   'electrode_impedance_magnitude': 0.0,\n",
       "   'electrode_impedance_phase': 0.0},\n",
       "  {'port_name': 'Port A',\n",
       "   'port_prefix': 'A',\n",
       "   'port_number': 0,\n",
       "   'native_channel_name': 'A-052',\n",
       "   'custom_channel_name': 'A-052',\n",
       "   'native_order': 52,\n",
       "   'custom_order': 52,\n",
       "   'chip_channel': 20,\n",
       "   'board_stream': 1,\n",
       "   'electrode_impedance_magnitude': 0.0,\n",
       "   'electrode_impedance_phase': 0.0},\n",
       "  {'port_name': 'Port A',\n",
       "   'port_prefix': 'A',\n",
       "   'port_number': 0,\n",
       "   'native_channel_name': 'A-053',\n",
       "   'custom_channel_name': 'A-053',\n",
       "   'native_order': 53,\n",
       "   'custom_order': 53,\n",
       "   'chip_channel': 21,\n",
       "   'board_stream': 1,\n",
       "   'electrode_impedance_magnitude': 0.0,\n",
       "   'electrode_impedance_phase': 0.0},\n",
       "  {'port_name': 'Port A',\n",
       "   'port_prefix': 'A',\n",
       "   'port_number': 0,\n",
       "   'native_channel_name': 'A-054',\n",
       "   'custom_channel_name': 'A-054',\n",
       "   'native_order': 54,\n",
       "   'custom_order': 54,\n",
       "   'chip_channel': 22,\n",
       "   'board_stream': 1,\n",
       "   'electrode_impedance_magnitude': 0.0,\n",
       "   'electrode_impedance_phase': 0.0},\n",
       "  {'port_name': 'Port A',\n",
       "   'port_prefix': 'A',\n",
       "   'port_number': 0,\n",
       "   'native_channel_name': 'A-055',\n",
       "   'custom_channel_name': 'A-055',\n",
       "   'native_order': 55,\n",
       "   'custom_order': 55,\n",
       "   'chip_channel': 23,\n",
       "   'board_stream': 1,\n",
       "   'electrode_impedance_magnitude': 0.0,\n",
       "   'electrode_impedance_phase': 0.0},\n",
       "  {'port_name': 'Port A',\n",
       "   'port_prefix': 'A',\n",
       "   'port_number': 0,\n",
       "   'native_channel_name': 'A-056',\n",
       "   'custom_channel_name': 'A-056',\n",
       "   'native_order': 56,\n",
       "   'custom_order': 56,\n",
       "   'chip_channel': 24,\n",
       "   'board_stream': 1,\n",
       "   'electrode_impedance_magnitude': 0.0,\n",
       "   'electrode_impedance_phase': 0.0},\n",
       "  {'port_name': 'Port A',\n",
       "   'port_prefix': 'A',\n",
       "   'port_number': 0,\n",
       "   'native_channel_name': 'A-057',\n",
       "   'custom_channel_name': 'A-057',\n",
       "   'native_order': 57,\n",
       "   'custom_order': 57,\n",
       "   'chip_channel': 25,\n",
       "   'board_stream': 1,\n",
       "   'electrode_impedance_magnitude': 0.0,\n",
       "   'electrode_impedance_phase': 0.0},\n",
       "  {'port_name': 'Port A',\n",
       "   'port_prefix': 'A',\n",
       "   'port_number': 0,\n",
       "   'native_channel_name': 'A-058',\n",
       "   'custom_channel_name': 'A-058',\n",
       "   'native_order': 58,\n",
       "   'custom_order': 58,\n",
       "   'chip_channel': 26,\n",
       "   'board_stream': 1,\n",
       "   'electrode_impedance_magnitude': 0.0,\n",
       "   'electrode_impedance_phase': 0.0},\n",
       "  {'port_name': 'Port A',\n",
       "   'port_prefix': 'A',\n",
       "   'port_number': 0,\n",
       "   'native_channel_name': 'A-059',\n",
       "   'custom_channel_name': 'A-059',\n",
       "   'native_order': 59,\n",
       "   'custom_order': 59,\n",
       "   'chip_channel': 27,\n",
       "   'board_stream': 1,\n",
       "   'electrode_impedance_magnitude': 0.0,\n",
       "   'electrode_impedance_phase': 0.0},\n",
       "  {'port_name': 'Port A',\n",
       "   'port_prefix': 'A',\n",
       "   'port_number': 0,\n",
       "   'native_channel_name': 'A-060',\n",
       "   'custom_channel_name': 'A-060',\n",
       "   'native_order': 60,\n",
       "   'custom_order': 60,\n",
       "   'chip_channel': 28,\n",
       "   'board_stream': 1,\n",
       "   'electrode_impedance_magnitude': 0.0,\n",
       "   'electrode_impedance_phase': 0.0},\n",
       "  {'port_name': 'Port A',\n",
       "   'port_prefix': 'A',\n",
       "   'port_number': 0,\n",
       "   'native_channel_name': 'A-061',\n",
       "   'custom_channel_name': 'A-061',\n",
       "   'native_order': 61,\n",
       "   'custom_order': 61,\n",
       "   'chip_channel': 29,\n",
       "   'board_stream': 1,\n",
       "   'electrode_impedance_magnitude': 0.0,\n",
       "   'electrode_impedance_phase': 0.0},\n",
       "  {'port_name': 'Port A',\n",
       "   'port_prefix': 'A',\n",
       "   'port_number': 0,\n",
       "   'native_channel_name': 'A-062',\n",
       "   'custom_channel_name': 'A-062',\n",
       "   'native_order': 62,\n",
       "   'custom_order': 62,\n",
       "   'chip_channel': 30,\n",
       "   'board_stream': 1,\n",
       "   'electrode_impedance_magnitude': 0.0,\n",
       "   'electrode_impedance_phase': 0.0},\n",
       "  {'port_name': 'Port A',\n",
       "   'port_prefix': 'A',\n",
       "   'port_number': 0,\n",
       "   'native_channel_name': 'A-063',\n",
       "   'custom_channel_name': 'A-063',\n",
       "   'native_order': 63,\n",
       "   'custom_order': 63,\n",
       "   'chip_channel': 31,\n",
       "   'board_stream': 1,\n",
       "   'electrode_impedance_magnitude': 0.0,\n",
       "   'electrode_impedance_phase': 0.0}],\n",
       " 'aux_input_channels': [{'port_name': 'Port A',\n",
       "   'port_prefix': 'A',\n",
       "   'port_number': 0,\n",
       "   'native_channel_name': 'A-AUX1',\n",
       "   'custom_channel_name': 'A-AUX1',\n",
       "   'native_order': 64,\n",
       "   'custom_order': 64,\n",
       "   'chip_channel': 0,\n",
       "   'board_stream': 0,\n",
       "   'electrode_impedance_magnitude': 0.0,\n",
       "   'electrode_impedance_phase': 0.0},\n",
       "  {'port_name': 'Port A',\n",
       "   'port_prefix': 'A',\n",
       "   'port_number': 0,\n",
       "   'native_channel_name': 'A-AUX2',\n",
       "   'custom_channel_name': 'A-AUX2',\n",
       "   'native_order': 65,\n",
       "   'custom_order': 65,\n",
       "   'chip_channel': 1,\n",
       "   'board_stream': 0,\n",
       "   'electrode_impedance_magnitude': 0.0,\n",
       "   'electrode_impedance_phase': 0.0},\n",
       "  {'port_name': 'Port A',\n",
       "   'port_prefix': 'A',\n",
       "   'port_number': 0,\n",
       "   'native_channel_name': 'A-AUX3',\n",
       "   'custom_channel_name': 'A-AUX3',\n",
       "   'native_order': 66,\n",
       "   'custom_order': 66,\n",
       "   'chip_channel': 2,\n",
       "   'board_stream': 0,\n",
       "   'electrode_impedance_magnitude': 0.0,\n",
       "   'electrode_impedance_phase': 0.0}],\n",
       " 'supply_voltage_channels': [{'port_name': 'Port A',\n",
       "   'port_prefix': 'A',\n",
       "   'port_number': 0,\n",
       "   'native_channel_name': 'A-VDD1',\n",
       "   'custom_channel_name': 'A-VDD1',\n",
       "   'native_order': 67,\n",
       "   'custom_order': 67,\n",
       "   'chip_channel': 0,\n",
       "   'board_stream': 0,\n",
       "   'electrode_impedance_magnitude': 0.0,\n",
       "   'electrode_impedance_phase': 0.0}]}"
      ]
     },
     "execution_count": 9,
     "metadata": {},
     "output_type": "execute_result"
    }
   ],
   "source": [
    "header"
   ]
  },
  {
   "cell_type": "markdown",
   "metadata": {},
   "source": [
    "# 7) Add new days for the chronic recording experiments (Start from here if files for this experiment had already been generated before)"
   ]
  },
  {
   "cell_type": "code",
   "execution_count": null,
   "metadata": {},
   "outputs": [],
   "source": [
    "import pickle\n",
    "from glob import glob\n",
    "main_folder = '/home/baran/Dropbox (Yanik Lab)/Layer 1 Project/Electrophysiology/Experiments/mBY03'\n",
    "experiment_file = open((main_folder + '/experiment_params.p'), 'rb')\n",
    "experiment = pickle.load(experiment_file)"
   ]
  },
  {
   "cell_type": "code",
   "execution_count": null,
   "metadata": {},
   "outputs": [],
   "source": [
    "#Obtaining the days that are already saved in the experiment dictionary\n",
    "existing_days = []\n",
    "for i in range(len(experiment.subExperiments)):\n",
    "    existing_days.append(experiment.days[i].name)\n",
    "\n",
    "#Adding the new days of recording since the last analysis\n",
    "days = glob(main_folder + '/20*')\n",
    "for day in days:\n",
    "    day_date = day[-8:]\n",
    "    if day_date not in existing_days:\n",
    "        experiment.add_subExperiment(day)\n",
    "        \n",
    "for subExperiment_index in experiment.subExperiments:\n",
    "    subExperiment = experiment.subExperiments[subExperiment_index]\n",
    "    if subExperiment.name not in existing_days:\n",
    "        subExperiment.add_sessions_in_dir()\n",
    "        \n",
    "        for session_index in subExperiment.sessions:\n",
    "            session = subExperiment.sessions[session_index]\n",
    "            session.setTrigChannels(0)\n",
    "    else:\n",
    "        pass \n",
    "    \n",
    "    \n",
    "for subExperiment_index in experiment.subExperiments:\n",
    "    subExperiment = experiment.subExperiments[subExperiment_index]\n",
    "    print(\"subExperiment:\" + subExperiment.name)\n",
    "    subExperiment_grp = f.create_group(subExperiment.name)\n",
    "    \n",
    "    subExperiment_analysis_files_dir = analysis_files_dir + '/' + subExperiment.name\n",
    "    if not os.path.exists(subExperiment_analysis_files_dir):\n",
    "        os.mkdir(subExperiment_analysis_files_dir)\n",
    "    \n",
    "    for session_index in subExperiment.sessions:\n",
    "        session = subExperiment.sessions[session_index]\n",
    "        print(\"Session:\" + session.name)\n",
    "        ses_grp = subExperiment_grp.create_groups(session.name)\n",
    "        \n",
    "        session_analysis_files_dir = subExperiment_analysis_files_dir + '/' + session.name\n",
    "        if not os.path.exists(session_analysis_files_dir):\n",
    "            os.mkdir(session_analysis_files_dir)\n",
    "        \n",
    "        for group in range(experiment.probe.nr_of_groups):\n",
    "            ch_grp = ses_grp.create_group('group_{:g}'.format(group))\n",
    "        \n",
    "        if session.preferences['do_whisker_stim_evoked'] == 'y':\n",
    "            print(\"Analyzing evoked LFPs\")\n",
    "            evoked_LFP_analysis_files_dir = session_analysis_files_dir + '/evoked_LFP_analysis'\n",
    "            if not os.path.exists(evoked_LFP_analysis_files_dir):\n",
    "                os.mkdir(evoked_LFP_analysis_files_dir)\n",
    "            \n",
    "            stim_timestamps = read_stimulus_trigger(session)\n",
    "            for group in range(experiment.probe.nr_of_groups):\n",
    "                print(\"Channel group: \" + str(group))\n",
    "                read_evoked_lfp(group,session)\n",
    "        \n",
    "        if session.preferences['do_spike_analysis'] == 'y':\n",
    "            print(\"Pre-processing data for spike sorting\")\n",
    "            spike_sorting_analysis_files_dir = session_analysis_files_dir + '/spike_sorting'\n",
    "            if not os.path.exists(spike_sorting_analysis_files_dir):\n",
    "                os.mkdir(spike_sorting_analysis_files_dir)\n",
    "            \n",
    "            for group in range(experiment.probe.nr_of_groups):\n",
    "                if not os.path.exists(spike_sorting_analysis_files_dir + '/group_{:}'.format(group)):\n",
    "                    os.mkdir(spike_sorting_analysis_files_dir + '/group_{:}'.format(group))\n",
    "                print(\"Channel group: \" + str(group))\n",
    "                create_prm_file(group, subExperiment)\n",
    "                shutil.copy(mp_value + pi.value + '.prb', spike_sorting_analysis_files_dir + '/group_{:}'.format(group))\n",
    "                read_group_into_dat_file(session, group, spike_sorting_analysis_files_dir)"
   ]
  },
  {
   "cell_type": "markdown",
   "metadata": {},
   "source": [
    "Notebook written by Baran Yasar in 04/2017. Please contact him in person or e-mail at yasar@biomed.ee.ethz.ch in case of any questions. \n",
    "\n",
    "---Updated in 07/2018 by Baran Yasar"
   ]
  }
 ],
 "metadata": {
  "kernelspec": {
   "display_name": "Python 3",
   "language": "python",
   "name": "python3"
  },
  "language_info": {
   "codemirror_mode": {
    "name": "ipython",
    "version": 3
   },
   "file_extension": ".py",
   "mimetype": "text/x-python",
   "name": "python",
   "nbconvert_exporter": "python",
   "pygments_lexer": "ipython3",
   "version": "3.7.3"
  },
  "widgets": {
   "state": {
    "1417bfb39df64cd88f56244ed1a2ce68": {
     "views": [
      {
       "cell_index": 5
      }
     ]
    },
    "2016448bc3c045509135330b6ee6de1b": {
     "views": [
      {
       "cell_index": 3
      }
     ]
    },
    "2db83e46a1154052bc68f74cd9c9a951": {
     "views": [
      {
       "cell_index": 3
      }
     ]
    },
    "3083178c880e4cb59c87c8d759c68d2e": {
     "views": [
      {
       "cell_index": 5
      }
     ]
    },
    "31a97b12e2334d589f19fc6650c2df48": {
     "views": [
      {
       "cell_index": 3
      }
     ]
    },
    "3487e6ddae9d4d73ba08b2b1e9e33068": {
     "views": [
      {
       "cell_index": 5
      }
     ]
    },
    "48724af7741f463b8bf18e7411f8063b": {
     "views": [
      {
       "cell_index": 5
      }
     ]
    },
    "6e57b26f80fb4dc88b4361bdd3023152": {
     "views": [
      {
       "cell_index": 7
      }
     ]
    },
    "79ba7984f6524d81a9f39f048fa2bbac": {
     "views": [
      {
       "cell_index": 5
      }
     ]
    },
    "832fba406c604bc8999961633f70a238": {
     "views": [
      {
       "cell_index": 7
      }
     ]
    },
    "89997f4b26d9460bbd0cae0a293bfac2": {
     "views": [
      {
       "cell_index": 7
      }
     ]
    },
    "8a667b24238b4e2e81ab447624a36273": {
     "views": [
      {
       "cell_index": 5
      }
     ]
    },
    "8f918ec1df0c407da4bee046556e3dfc": {
     "views": [
      {
       "cell_index": 5
      }
     ]
    },
    "974de105baac476ea048e17b6a4d08f9": {
     "views": [
      {
       "cell_index": 5
      }
     ]
    },
    "9c712e7664b4476c934e305a9f0df5da": {
     "views": [
      {
       "cell_index": 7
      }
     ]
    },
    "a3462058cf5e46ecb16c0399e36bbaa9": {
     "views": [
      {
       "cell_index": 3
      }
     ]
    },
    "dcdd3127b48642e780456d0066633ca0": {
     "views": [
      {
       "cell_index": 3
      }
     ]
    },
    "e4b0d9933a154df19370581f45f5ca03": {
     "views": [
      {
       "cell_index": 7
      }
     ]
    },
    "f15cfed0e8754121a5d1c9fb31959a8e": {
     "views": [
      {
       "cell_index": 3
      }
     ]
    }
   },
   "version": "1.2.0"
  }
 },
 "nbformat": 4,
 "nbformat_minor": 2
}
