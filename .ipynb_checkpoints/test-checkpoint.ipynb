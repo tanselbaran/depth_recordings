{
 "cells": [
  {
   "cell_type": "markdown",
   "metadata": {},
   "source": [
    "# Notebook for analyzing location: loc1,  group: 0 in experiment: 20180709_BY17_opto_ephys\n",
    "            "
   ]
  },
  {
   "cell_type": "markdown",
   "metadata": {},
   "source": [
    "## Importing necessary packages and initializing objects"
   ]
  },
  {
   "cell_type": "code",
   "execution_count": null,
   "metadata": {},
   "outputs": [],
   "source": [
    "from spikeSortingUtils.custom_spike_sorting_utils import *\n",
    "    import numpy as np\n",
    "    import os\n",
    "    import pickle as p\n",
    "    from surfaceRecUtils.surface_rec_notebook_utils import *\n",
    "    from surfaceRecUtils.simple_clustering_utils import *\n",
    "    import h5py\n",
    "\n",
    "    %matplotlib notebook\n",
    "\n",
    "    experiment_main_folder = /home/baran/Dropbox (Yanik Lab)/Layer 1 Project/Electrophysiology/Experiments/20180709_BY17_opto_ephys\n",
    "    experiment = p.load(open(experiment_main_folder + '/experiment_params.p'), 'rb')\n",
    "    location = experiment.locations[0]\n",
    "    analysis_files_folder = location.dir+'/analysis_files/group_0/'\n",
    "    "
   ]
  },
  {
   "cell_type": "markdown",
   "metadata": {},
   "source": [
    "## Reading the data and extracting waveforms from this location"
   ]
  },
  {
   "cell_type": "code",
   "execution_count": null,
   "metadata": {},
   "outputs": [],
   "source": [
    "location_output = read_location(location, 0)\n",
    "    clusters, projection = PCA_and_cluster(location_output['waveforms'], location)\n",
    "    save_clusters_to_pickle(clusters, projection, location_output['peak_times'], (analysis_files_folder+'cluster_info.p'))\n",
    "    display_widget(location_output['waveforms'], plot_params, location, ['clusters', 'ind_on'], clusters)"
   ]
  },
  {
   "cell_type": "markdown",
   "metadata": {},
   "source": [
    "## Reclustering the selected waveforms"
   ]
  },
  {
   "cell_type": "code",
   "execution_count": null,
   "metadata": {},
   "outputs": [],
   "source": [
    "good_cluster_indices = []\n",
    "    (good_clusters, good_waveforms, good_peaktimes, good_projection) = recluster(waveforms, location, peak_times, clusters, good_cluster_indices)\n",
    "    save_reclusters_to_pickle(good_clusters, good_projection, good_peaktimes, (analysis_files_folder+'good_cluster_info.p'))\n",
    "    display_widget(good_waveforms, plot_params, location, ['clusters', 'ind_on'], good_clusters)"
   ]
  },
  {
   "cell_type": "markdown",
   "metadata": {},
   "source": [
    "## Reclustering selected waveforms again"
   ]
  },
  {
   "cell_type": "code",
   "execution_count": null,
   "metadata": {},
   "outputs": [],
   "source": [
    "better_cluster_indices = []\n",
    "    (better_clusters, better_waveforms, better_peaktimes, better_projection) = recluster(good_waveforms, location, good_peaktimes, good_clusters, better_cluster_indices)\n",
    "    del good_waveforms\n",
    "    save_reclusters_to_pickle(better_clusters, better_projection, better_peaktimes, (analysis_files_folder+'better_cluster_info.p'))\n",
    "    display_widget(better_waveforms, plot_params, location, ['clusters', 'ind_on'], better_clusters)"
   ]
  },
  {
   "cell_type": "markdown",
   "metadata": {},
   "source": [
    "## Sorting into units"
   ]
  },
  {
   "cell_type": "code",
   "execution_count": null,
   "metadata": {},
   "outputs": [],
   "source": [
    "noise = []\n",
    "    multi_unit = []\n",
    "    units = {\n",
    "        0:[],\n",
    "        1:[],}\n",
    "        unit_indices = get_unit_indices(units, better_clusters)\n",
    "        spike_times, spike_trains = get_unit_spike_times_and_trains(unit_indices, better_peaktimes, location)\n",
    "        spike_trains_location = break_down_to_sessions(location, spike_times, spike_trains)\n",
    "        "
   ]
  },
  {
   "cell_type": "markdown",
   "metadata": {},
   "source": [
    "## Generating PSTHs for sessions based on provided stim preferences"
   ]
  },
  {
   "cell_type": "code",
   "execution_count": null,
   "metadata": {},
   "outputs": [],
   "source": [
    "generate_psths(location, spike_times)"
   ]
  },
  {
   "cell_type": "markdown",
   "metadata": {},
   "source": [
    "## Saving the spike trains, waveforms and PSTHs in hdf file"
   ]
  },
  {
   "cell_type": "code",
   "execution_count": null,
   "metadata": {},
   "outputs": [],
   "source": [
    "f = h5py.File(experiment_main_folder + '/analysis_results.hdf5', 'a')\n",
    "    ch_grp = f[location.name + '/group_0']\n",
    "    spike_grp = ch_grp.create_group('spike_results')\n",
    "    spike_grp.create_dataset(\"spike_trains\", spike_trains)\n",
    "    spike_grp.create_dataset(\"spike_times\", spike_times)\n",
    "    spike_grp.create_dataset(\"unit_indices\", unit_indices)\n",
    "    spike_grp.create_dataset(\"waveforms\", better_waveforms)\n",
    "    if whisker_stim_psth in locals():\n",
    "        spike_grp.create_dataset(\"whisker_stim_psth\",whisker_stim_psth)\n",
    "    if optical_stim_psth in locals():\n",
    "        spike_grp.create_dataset(\"optical_stim_psth\", optical_stim_psth)\n",
    "    "
   ]
  }
 ],
 "metadata": {
  "kernelspec": {
   "display_name": "Python 3",
   "language": "python",
   "name": "python3"
  },
  "language_info": {
   "codemirror_mode": {
    "name": "ipython",
    "version": 3
   },
   "file_extension": ".py",
   "mimetype": "text/x-python",
   "name": "python",
   "nbconvert_exporter": "python",
   "pygments_lexer": "ipython3",
   "version": "3.6.4"
  }
 },
 "nbformat": 4,
 "nbformat_minor": 2
}
