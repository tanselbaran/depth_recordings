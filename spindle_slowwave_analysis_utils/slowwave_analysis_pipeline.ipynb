{
 "cells": [
  {
   "cell_type": "markdown",
   "metadata": {},
   "source": [
    "# NEUROTOOL: SPINDLE AND SLOW WAVE MODULATION ANALYSIS\n",
    "This notebook is a pipeline to use Neurotool for analyzing the modulation between slow waves and spike trains in single channel data. \n",
    "\n",
    "__NOTE: Be careful with the memory while using this tool, it might be a good idea to allocate some parts of SSD to be used like RAM so that you don't get a MemoryError.__\n",
    "\n",
    "## 1. Import the packages required for running the script\n",
    "\n",
    "Please run the block of code to import the Python packages that are required for running the rest of this script. Make sure that the following files are in the same directory with this notebook:\n",
    "\n",
    "- analysis_utils\n",
    "- slowwave_analysis_utils"
   ]
  },
  {
   "cell_type": "code",
   "execution_count": null,
   "metadata": {},
   "outputs": [],
   "source": [
    "import numpy as np\n",
    "import matplotlib.pyplot as plt\n",
    "#import ipywidgets\n",
    "#from ipywidgets import Layout, HBox, VBox\n",
    "#from IPython.display import display\n",
    "#import h5py\n",
    "import scipy\n",
    "import scipy.io as spio\n",
    "from analysis_utils import *\n",
    "from slowwave_analysis_utils import *\n",
    "#from extract_data import *"
   ]
  },
  {
   "cell_type": "markdown",
   "metadata": {},
   "source": [
    "## 2. Entering parameters for data\n",
    "\n",
    "Please enter the values for the data and spike train that you want to analyze. __This is not a complete tool yet!!!__"
   ]
  },
  {
   "cell_type": "code",
   "execution_count": null,
   "metadata": {},
   "outputs": [],
   "source": [
    "##Name of the data file \n",
    "\n",
    "name_html = ipywidgets.HTML(value = \"<p><b>Name of the single channel data:</b><br />Enter the name of the raw data file that is in data folder in this directory.</p>\")\n",
    "name = ipywidgets.Text(value = \"\", placeholder = \"Enter name of the file\", disabled = False)\n",
    "display(VBox([name_html, name]))\n",
    "\n",
    "##File format\n",
    "ff_html = ipywidgets.HTML(value = \"<p><b>File format of data:</b><br />(dat for .dat, cont for .continuous, rhd for .rhd)</p>\")\n",
    "ff = ipywidgets.Text(value = 'dat', placeholder = 'Enter file format for data',\n",
    "             disabled = False)\n",
    "display(VBox([ff_html,ff]))\n",
    "\n",
    "#Units of the data\n",
    "\n",
    "unit_html = ipywidgets.HTML(value = \"<b>Units of the data:</b>\")\n",
    "unit = ipywidgets.Dropdown(options=['Volts', 'MiliVolts', 'MicroVolts'], \n",
    "                   value = 'Volts',  disabled = False)\n",
    "display(VBox([unit_html, unit]))\n",
    "\n",
    "##file name of the spike train\n",
    "\n",
    "st_html = ipywidgets.HTML(value = \"<p><b>Name of the spike train data file:</b><br />Enter the name of the spike train data file that is in data folder in this directory.</p>\")\n",
    "st = ipywidgets.Text(value = \"\", placeholder = \"Enter name of the file\", disabled = False)\n",
    "display(VBox([st_html, st]))\n",
    "\n",
    "##File format\n",
    "ffst_html = ipywidgets.HTML(value = \"<p><b>File format of spike train:</b><br />(dat for .dat, cont for .continuous, rhd for .rhd)</p>\")\n",
    "ffst = ipywidgets.Text(value = 'dat', placeholder = 'Enter file format for data',\n",
    "             disabled = False)\n",
    "display(VBox([ffst_html,ffst]))\n",
    "\n",
    "##Sampling frequency of the data\n",
    "\n",
    "fs_html = ipywidgets.HTML(value = \"<p><b>Sampling frequency of the data:</b><br />Enter the sampling frequency of the recording.</p>\")\n",
    "fs = ipywidgets.Text(value = \"\", placeholder = \"Enter sampling frequency\", disabled = False)\n",
    "display(VBox([fs_html, fs]))"
   ]
  },
  {
   "cell_type": "markdown",
   "metadata": {},
   "source": [
    "## 3. Obtaining the dataset\n",
    "\n",
    "Please run the following script obtain the parameters in the dataset."
   ]
  },
  {
   "cell_type": "code",
   "execution_count": null,
   "metadata": {},
   "outputs": [],
   "source": [
    "# script to obtain single channel data, its spike train, and sampling frequency\n",
    "#data = get_data(name.value, ff.value, unit.value)\n",
    "#spike_train = get_spike_train_data(st.value, ffst.value)\n",
    "noc = 72\n",
    "fs = 1250\n",
    "sf = 30000\n",
    "raw_data = np.fromfile('BWRat17_121712.eeg', 'int16')\n",
    "num_samples = int(len(raw_data)/ noc)\n",
    "data = np.transpose(np.reshape(raw_data, [num_samples, noc]))[12][0:5000000]\n",
    "l = len(data)\n",
    "times0 = np.arange(l)\n",
    "times0 = times0 / fs\n",
    "del raw_data\n",
    "data0 = data\n",
    "data = signal.resample(data,int(sf*l*(1/fs)))\n",
    "l = len(data)\n",
    "l0 = len(data0)\n",
    "times = np.arange(l)\n",
    "times = times / sf"
   ]
  },
  {
   "cell_type": "code",
   "execution_count": null,
   "metadata": {},
   "outputs": [],
   "source": [
    "stable_spike_matlab = spio.loadmat(\"BWRat17_121712_SStable.mat\")\n",
    "num_of_units = len(stable_spike_matlab[\"S_CellFormat\"][0])\n",
    "peak_index = []\n",
    "spike_train = []\n",
    "\n",
    "for unit_index in range(num_of_units):\n",
    "    data_add = []\n",
    "    for j in stable_spike_matlab[\"S_CellFormat\"][0][unit_index]:\n",
    "        if j * sf < l:\n",
    "            data_add.append(int(j * sf))\n",
    "    peak_index.append(data_add)\n",
    "    spike_train.append(get_spike_train(peak_index[unit_index], l))\n",
    "del data_add\n",
    "del peak_index\n",
    "del stable_spike_matlab"
   ]
  },
  {
   "cell_type": "code",
   "execution_count": null,
   "metadata": {},
   "outputs": [],
   "source": [
    "spike_train = spike_train[46:48] # taking 2 units for demonstration"
   ]
  },
  {
   "cell_type": "markdown",
   "metadata": {},
   "source": [
    "In the code above, we obtained the LFP data and spike trains from our files. When you want to work with your own data you should extract your data from your files as a numpy array. Here because we had spike trains found in a different sampling frequency, we upsampled the data for further use, however this will not be neccessary when you want to work on your own data. Every element in the spike train data is the spike train of each unit as an array of same length with data. We only took the unit number 46 for demonstration purposes."
   ]
  },
  {
   "cell_type": "markdown",
   "metadata": {},
   "source": [
    "## 4. Plotting the data and spike train in a specific time range\n",
    "\n",
    "Default time range is all data, but it is recommended to be changed."
   ]
  },
  {
   "cell_type": "code",
   "execution_count": null,
   "metadata": {},
   "outputs": [],
   "source": [
    "%matplotlib notebook\n",
    "plot_data(data0, times0, 'Time (seconds)', 'Amplitude (uV)','Raw Data', [times0.min(), times0.max()])"
   ]
  },
  {
   "cell_type": "code",
   "execution_count": null,
   "metadata": {},
   "outputs": [],
   "source": [
    "%matplotlib notebook\n",
    "plot_spike_train(spike_train[1], times, [times.min(), times.max()])"
   ]
  },
  {
   "cell_type": "markdown",
   "metadata": {},
   "source": [
    "## 5. Finding slow waves inside the data\n",
    "\n",
    "Here you can change the threshold values for the detection algorithm if you want to. More on algorithm can be found [here](https://github.com/raphaelvallat/yasa)."
   ]
  },
  {
   "cell_type": "code",
   "execution_count": null,
   "metadata": {},
   "outputs": [],
   "source": [
    "#THIS MIGHT TAKE TIME DEPENDING ON SIZE OF THE DATA AND YOUR COMPUTER\n",
    "sw = find_slowwave(data0, fs)\n",
    "sw.round(2)"
   ]
  },
  {
   "cell_type": "markdown",
   "metadata": {},
   "source": [
    "## 6. Plotting slow waves on top of the data in a specific time range\n",
    "\n",
    "Default time range is all data, but it is recommended to be changed."
   ]
  },
  {
   "cell_type": "code",
   "execution_count": null,
   "metadata": {},
   "outputs": [],
   "source": [
    "%matplotlib notebook\n",
    "plot_slowwave(data0, times0, fs, sw, 'Time (seconds)', 'Amplitude (uV)', 'Data with slow waves', [times.min(), times.max()])"
   ]
  },
  {
   "cell_type": "code",
   "execution_count": null,
   "metadata": {},
   "outputs": [],
   "source": [
    "del data0\n",
    "del times0"
   ]
  },
  {
   "cell_type": "markdown",
   "metadata": {},
   "source": [
    "## 7. Saving each slow wave raw data\n",
    "\n",
    "Here we will save the raw data for each slow wave, in the following format: {'0': [slowwave0rawdata], '1': [slowwave1rawdata], ....}"
   ]
  },
  {
   "cell_type": "code",
   "execution_count": null,
   "metadata": {},
   "outputs": [],
   "source": [
    "slowwave_dict = save_slowwave(data0, fs, sw)"
   ]
  },
  {
   "cell_type": "markdown",
   "metadata": {},
   "source": [
    "## 8. Calculating and saving firing histogram of each unit before, during and after slow wave\n",
    "This function will output the following:\n",
    "\n",
    "For each unit:\n",
    "\n",
    "[Average firing rate of the unit in the following time interval [start - dt:start], Average firing rate of the unit in the following time interval [slowwave duration], Average firing rate of the unit in the following time interval [end : end + dt]]\n",
    "\n",
    "You can access this information by indexing the output array[unit_index]"
   ]
  },
  {
   "cell_type": "code",
   "execution_count": null,
   "metadata": {},
   "outputs": [],
   "source": [
    "#THIS MIGHT TAKE TIME DEPENDING ON SIZE OF THE DATA AND YOUR COMPUTER\n",
    "dt = 2\n",
    "unit_sw_firing = firing_rate_sw(sw, spike_train, sf, dt)"
   ]
  },
  {
   "cell_type": "markdown",
   "metadata": {},
   "source": [
    "## 9. Calculating the slow wave phase histograms and time/phase aligned slow wave spike trains and saving all the data\n",
    "This function takes the spike train of all units, its samplng frequency, slow wave dataFrame, and phase intervals as the input\n",
    "in order to output the following:\n",
    "[num_spikes, phase_hist_spike_trains, time_spike_trains, unit_hist_arrays]\n",
    "\n",
    "1. num_spikes is an array showing how many spikes in total are found in slow waves, for each unit. You can access the data by indexing the array with unit_index\n",
    "2. phase_hist_spike_trains is a dictionary which holds the phase histograms of each slow wave, for each unit. To access the data, first you should index the\n",
    "unit_index in dictionary, (e.g. arr[str(unit_index)]) then the slow wave number.\n",
    "3. time_spike_trains is a dictionary which holds time aligned spike trains in slow waves, for each unit. Data can be accessed as demonstrated in \n",
    "phase_hist_spike_trains explanation\n",
    "4. unit_hist_arrays is a dictionary holding sums of the phase histogram arrays for all slow waves, for each unit. \n",
    "You can access the data by indexing the array with unit_index\n",
    "\n",
    "Here you can change the phase intervals of the histogram by changing the variable, 'phase'. "
   ]
  },
  {
   "cell_type": "code",
   "execution_count": null,
   "metadata": {},
   "outputs": [],
   "source": [
    "#THIS MIGHT TAKE TIME DEPENDING ON SIZE OF THE DATA AND YOUR COMPUTER\n",
    "phase = np.pi/6\n",
    "sw_allunits = sw_all_units(sw, phase, sf, spike_train)\n",
    "\n",
    "num_spikes = sw_allunits[0]\n",
    "phase_hist_spike_trains = sw_allunits[1]\n",
    "time_spike_trains = sw_allunits[2]\n",
    "unit_hist_arrays = sw_allunits[3]\n",
    "\n",
    "del sw_allunits"
   ]
  },
  {
   "cell_type": "markdown",
   "metadata": {},
   "source": [
    "## 10. Calculating slow wave phase histogram of a spike train of a specific unit\n",
    "\n",
    "Using the following functions, you can directly calculate the phase_hist_spike_train, time_spike_train, and unit_hist_array of a specific unit by indexing its unit index for spike train. See the notebook files to understand outputs of these functions.\n",
    "\n",
    "- slowwave_phase_hist(sp, phase, fs, spike_train[unit_index])"
   ]
  },
  {
   "cell_type": "markdown",
   "metadata": {},
   "source": [
    "## 11. Saved results\n",
    "\n",
    "At the end of this analysis, we have the following dictionaries:\n",
    "\n",
    "- slowwave_dict\n",
    "- num_spikes\n",
    "- unit_sw_firing\n",
    "- phase_hist_spike_trains\n",
    "- time_spike_trains\n",
    "- unit_hist_arrays\n",
    "\n",
    "Each storing the following information, respectively:\n",
    "\n",
    "- Each slow wave's raw data in slow wave time window\n",
    "- Number of spikes that are found in slow waves for each unit\n",
    "- Firing rate for each unit before, during, and after slow waves\n",
    "- Phase aligned spike trains of each unit in each slow wave\n",
    "- Time aligned spike trains of each unit in each slow wave\n",
    "- Sum of the all phase aligned spike trains in all slow waves for each unit\n",
    "\n",
    "\n",
    "You can access these variables for any purpose. Run the following cells to print the data inside them."
   ]
  },
  {
   "cell_type": "code",
   "execution_count": null,
   "metadata": {},
   "outputs": [],
   "source": [
    "slowwave_dict"
   ]
  },
  {
   "cell_type": "code",
   "execution_count": null,
   "metadata": {},
   "outputs": [],
   "source": [
    "num_spikes"
   ]
  },
  {
   "cell_type": "code",
   "execution_count": null,
   "metadata": {
    "scrolled": true
   },
   "outputs": [],
   "source": [
    "unit_sw_firing"
   ]
  },
  {
   "cell_type": "code",
   "execution_count": null,
   "metadata": {},
   "outputs": [],
   "source": [
    "phase_hist_spike_trains"
   ]
  },
  {
   "cell_type": "code",
   "execution_count": null,
   "metadata": {
    "scrolled": true
   },
   "outputs": [],
   "source": [
    "time_spike_trains"
   ]
  },
  {
   "cell_type": "code",
   "execution_count": null,
   "metadata": {
    "scrolled": true
   },
   "outputs": [],
   "source": [
    "unit_hist_arrays"
   ]
  },
  {
   "cell_type": "markdown",
   "metadata": {},
   "source": [
    "## 12. Plotting slow wave's phase histogram"
   ]
  },
  {
   "cell_type": "markdown",
   "metadata": {},
   "source": [
    "Here's an example of a slow wave phase histogram, with unit index 46."
   ]
  },
  {
   "cell_type": "code",
   "execution_count": null,
   "metadata": {},
   "outputs": [],
   "source": [
    "%matplotlib notebook\n",
    "plot_barchart(unit_hist_arrays['0'], phase)"
   ]
  },
  {
   "cell_type": "code",
   "execution_count": null,
   "metadata": {},
   "outputs": [],
   "source": [
    "%matplotlib notebook\n",
    "plot_polarbarchart(unit_hist_arrays['0'], phase)"
   ]
  },
  {
   "cell_type": "markdown",
   "metadata": {},
   "source": [
    "## 13. Conclusion\n",
    "After all, looking at these histogram plots we can understand if there's a modulation between spiking pattern and slow waves. "
   ]
  },
  {
   "cell_type": "markdown",
   "metadata": {},
   "source": [
    "This notebook is created by Mert Unsal in ETH Zurich Neuroinformatics Lab under supervision of PhD. Tansel Baran Yasar. You can reach me out at mailmertunsal@gmail.com for further questions or discussion."
   ]
  }
 ],
 "metadata": {
  "kernelspec": {
   "display_name": "Python 3",
   "language": "python",
   "name": "python3"
  },
  "language_info": {
   "codemirror_mode": {
    "name": "ipython",
    "version": 3
   },
   "file_extension": ".py",
   "mimetype": "text/x-python",
   "name": "python",
   "nbconvert_exporter": "python",
   "pygments_lexer": "ipython3",
   "version": "3.7.0"
  }
 },
 "nbformat": 4,
 "nbformat_minor": 2
}
